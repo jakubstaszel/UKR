{
 "cells": [
  {
   "cell_type": "code",
   "execution_count": 1,
   "metadata": {},
   "outputs": [],
   "source": [
    "#from arcgis.gis import GIS\n",
    "# from arcgis.raster.analytics import copy_raster\n",
    "import arcpy\n",
    "#print(os.environ['PATH'])\n",
    "import os\n",
    "import datetime as dt\n",
    "import xml.dom.minidom as DOM\n",
    "\n",
    "HOMEdir = os.getcwd()\n",
    "DATAdir = HOMEdir + r'\\data'\n",
    "RESULTSdir = HOMEdir + r'\\results'\n",
    "SHAREdir = HOMEdir + r'\\share'\n",
    "REPROJdir = HOMEdir + r'\\reproject'"
   ]
  },
  {
   "cell_type": "code",
   "execution_count": 2,
   "metadata": {},
   "outputs": [],
   "source": [
    "arcGISproProj = r\"C:\\Users\\Asus\\OneDrive - Stowarzyszenie IAESTE Polska\\Studia\\indonezja\\DiengPlateauSharing\\DiengPlateauSharing.aprx\""
   ]
  },
  {
   "cell_type": "code",
   "execution_count": 4,
   "metadata": {},
   "outputs": [],
   "source": [
    "def uploadAGOL(indexName):\n",
    "    arcpy.SignInToPortal(\"https://www.arcgis.com\", \"zuluzi\", \"Jem987dzem!\")\n",
    "    print('Start publishing : ' + indexName)\n",
    "    os.chdir(SHAREdir)\n",
    "# this layer (index) was uploaded before\n",
    "    if os.path.isfile('.\\\\' + indexName + '.sd'):\n",
    "        outdir = SHAREdir\n",
    "        service_name = indexName + str(dt.datetime.today().strftime('%Y%m%d'))\n",
    "        sddraft_filename = service_name + \".sddraft\"\n",
    "        sddraft_output_filename = os.path.join(outdir, sddraft_filename)\n",
    "        sddraft_temp_output_filename = os.path.join(outdir, service_name + 'temp.sddraft')\n",
    "        sd_filename = service_name + \".sd\"\n",
    "        sd_output_filename = os.path.join(outdir, sd_filename)\n",
    "\n",
    "        # Reference map to publish\n",
    "        aprx = arcpy.mp.ArcGISProject(arcGISproProj)\n",
    "        m = aprx.listMaps(indexName)[0]\n",
    "\n",
    "        # Create TileSharingDraft and set metadata and portal folder properties\n",
    "        server_type = \"HOSTING_SERVER\"\n",
    "        sddraft = m.getWebLayerSharingDraft(server_type, \"TILE\", service_name)\n",
    "        sddraft.credits = \"\"\n",
    "        sddraft.description = \"Layer containg raster values for \" + indexName + \".\"\n",
    "        sddraft.summary = \"\"\n",
    "        sddraft.tags = \"Water Quality, Sentinel-2, \" + indexName\n",
    "        sddraft.useLimitations = \"\"\n",
    "        sddraft.portalFolder = \"DiengPlateau\"\n",
    "        sddraft.overwriteExistingService = True\n",
    "        sddraft.exportToSDDraft(sddraft_temp_output_filename)\n",
    "        \n",
    "        # Modyf minScale and maxScale in sddraft file\n",
    "        doc = DOM.parse(sddraft_temp_output_filename)\n",
    "        prop = doc.getElementsByTagName('ConfigurationProperties')[0]\n",
    "        configProps = doc.getElementsByTagName('ConfigurationProperties')[0]\n",
    "        propArray = configProps.firstChild\n",
    "        propSets = propArray.childNodes\n",
    "        \n",
    "        for propSet in propSets:\n",
    "            keyValues = propSet.childNodes\n",
    "            for keyValue in keyValues:\n",
    "                if keyValue.tagName == 'Key':\n",
    "                    if keyValue.firstChild.data == \"minScale\":\n",
    "                        # set min scale\n",
    "                        keyValue.nextSibling.firstChild.data = \"1150000.000000\"\n",
    "            for keyValue in keyValues:\n",
    "                if keyValue.tagName == 'Key':\n",
    "                    if keyValue.firstChild.data == \"maxScale\":\n",
    "                        # set max scale\n",
    "                        keyValue.nextSibling.firstChild.data = \"5000.000000\"\n",
    "\n",
    "        f = open(sddraft_output_filename, 'w')\n",
    "        doc.writexml(f)\n",
    "        f.close()\n",
    "        \n",
    "        # Stage\n",
    "        print(\"    Start Staging\")\n",
    "        arcpy.StageService_server(sddraft_output_filename, sd_output_filename)\n",
    "\n",
    "        # Upload\n",
    "        print(\"    Start Uploading\")\n",
    "        arcpy.UploadServiceDefinition_server(sd_output_filename, server_type)\n",
    "        \n",
    "        # Creates and updates tiles in an existing web tile layer cache\n",
    "        print(\"    Start Creating Tiles\")\n",
    "        input_service = r'https://tiles.arcgis.com/tiles/MzCtPDSne0rpIt7V/arcgis/rest/services/' + service_name + r'/MapServer'\n",
    "        arcpy.ManageMapServerCacheTiles_server(input_service, [200000,50000,10000], \"RECREATE_ALL_TILES\")\n",
    "        \n",
    "        # Replace prod layer with temp\n",
    "        print(\"    Start Replacing Layers\")\n",
    "        main_service = repr(r'https://tiles.arcgis.com/tiles/MzCtPDSne0rpIt7V/arcgis/rest/services/' + indexName + r'/MapServer')\n",
    "        input_service = repr(r'https://tiles.arcgis.com/tiles/MzCtPDSne0rpIt7V/arcgis/rest/services/' + service_name + r'/MapServer')\n",
    "        archive_serviceName = indexName + r'archive' + str(dt.datetime.today().strftime('%Y%m%d'))\n",
    "\n",
    "        arcpy.server.ReplaceWebLayer(main_service, archive_serviceName, input_service)\n",
    "        \n",
    "        os.remove(sddraft_output_filename)\n",
    "        os.remove(sd_output_filename)\n",
    "        os.remove(sddraft_temp_output_filename)\n",
    "# this layer (index) is uploaded for the first time\n",
    "    else:\n",
    "        outdir = SHAREdir\n",
    "        service_name = indexName\n",
    "        sddraft_filename = service_name + \".sddraft\"\n",
    "        sddraft_output_filename = os.path.join(outdir, sddraft_filename)\n",
    "        sddraft_temp_output_filename = os.path.join(outdir, service_name + 'temp.sddraft')\n",
    "        sd_filename = service_name + \".sd\"\n",
    "        sd_output_filename = os.path.join(outdir, sd_filename)\n",
    "\n",
    "        # Reference map to publish\n",
    "        aprx = arcpy.mp.ArcGISProject(arcGISproProj)\n",
    "        m = aprx.listMaps(indexName)[0]\n",
    "\n",
    "        # Create TileSharingDraft and set metadata and portal folder properties\n",
    "        server_type = \"HOSTING_SERVER\"\n",
    "        sddraft = m.getWebLayerSharingDraft(server_type, \"TILE\", service_name)\n",
    "        sddraft.credits = \"\"\n",
    "        sddraft.description = \"Layer containg raster values for \" + indexName + \".\"\n",
    "        sddraft.summary = \"\"\n",
    "        sddraft.tags = \"Water Quality, Sentinel-2, \" + indexName\n",
    "        sddraft.useLimitations = \"\"\n",
    "        sddraft.portalFolder = \"DiengPlateau\"\n",
    "        sddraft.overwriteExistingService = True\n",
    "        sddraft.exportToSDDraft(sddraft_temp_output_filename)\n",
    "        \n",
    "        # Modyf minScale and maxScale in sddraft file\n",
    "        doc = DOM.parse(sddraft_temp_output_filename)\n",
    "        prop = doc.getElementsByTagName('ConfigurationProperties')[0]\n",
    "        configProps = doc.getElementsByTagName('ConfigurationProperties')[0]\n",
    "        propArray = configProps.firstChild\n",
    "        propSets = propArray.childNodes\n",
    "        \n",
    "        for propSet in propSets:\n",
    "            keyValues = propSet.childNodes\n",
    "            for keyValue in keyValues:\n",
    "                if keyValue.tagName == 'Key':\n",
    "                    if keyValue.firstChild.data == \"minScale\":\n",
    "                        # set min scale\n",
    "                        keyValue.nextSibling.firstChild.data = \"1150000.000000\"\n",
    "            for keyValue in keyValues:\n",
    "                if keyValue.tagName == 'Key':\n",
    "                    if keyValue.firstChild.data == \"maxScale\":\n",
    "                        # set max scale\n",
    "                        keyValue.nextSibling.firstChild.data = \"5000.000000\"\n",
    "\n",
    "        f = open(sddraft_output_filename, 'w')\n",
    "        doc.writexml(f)\n",
    "        f.close()\n",
    "        \n",
    "        # Stage\n",
    "        print(\"    Start Staging\")\n",
    "        arcpy.StageService_server(sddraft_output_filename, sd_output_filename)\n",
    "\n",
    "        # Upload\n",
    "        print(\"    Start Uploading\")\n",
    "        arcpy.UploadServiceDefinition_server(sd_output_filename, server_type)\n",
    "        \n",
    "        # Creates and updates tiles in an existing web tile layer cache\n",
    "        print(\"    Start Creating Tiles\")\n",
    "        input_service = repr(r'https://tiles.arcgis.com/tiles/MzCtPDSne0rpIt7V/arcgis/rest/services/' + service_name + r'/MapServer')\n",
    "        arcpy.ManageMapServerCacheTiles_server(input_service, [150000,50000,10000], \"RECREATE_ALL_TILES\")\n",
    "        \n",
    "    print('Finish publishing : ' + indexName)\n",
    "    os.chdir(HOMEdir)\n"
   ]
  },
  {
   "cell_type": "code",
   "execution_count": 5,
   "metadata": {},
   "outputs": [
    {
     "name": "stdout",
     "output_type": "stream",
     "text": [
      "Start publishing : cya_DP\n",
      "    Start Staging\n",
      "    Start Uploading\n",
      "    Start Creating Tiles\n",
      "Finish publishing : cya_DP\n"
     ]
    }
   ],
   "source": [
    "for file in os.listdir(SHAREdir):\n",
    "    if file.endswith('cya_merged_masked.tif'):\n",
    "        uploadAGOL(file.split('_')[0] + '_DP')"
   ]
  },
  {
   "cell_type": "code",
   "execution_count": 5,
   "metadata": {},
   "outputs": [
    {
     "data": {
      "text/html": [
       "<div class='gpresult'><h2>Messages</h2><div id='messages' data-messages='[\"Start Time: niedziela, 2 stycznia 2022 14:10:19\",\"Succeeded at niedziela, 2 stycznia 2022 14:33:27 (Elapsed Time: 23 minutes 8 seconds)\"]' data-show='true'><div id = 'default' /></div></div>"
      ],
      "text/plain": [
       "<Result 'https://tiles.arcgis.com/tiles/MzCtPDSne0rpIt7V/arcgis/rest/admin/services/chla20220102/MapServer/jobs/b90d57b28a6bbd95'>"
      ]
     },
     "execution_count": 5,
     "metadata": {},
     "output_type": "execute_result"
    }
   ],
   "source": [
    "service_name = 'chla' + str(dt.datetime.today().strftime('%Y%m%d'))\n",
    "input_service = r'https://tiles.arcgis.com/tiles/MzCtPDSne0rpIt7V/arcgis/rest/services/' + service_name + r'/MapServer'\n",
    "arcpy.ManageMapServerCacheTiles_server(input_service, [500000,50000,10000], \"RECREATE_ALL_TILES\")"
   ]
  },
  {
   "cell_type": "code",
   "execution_count": 11,
   "metadata": {},
   "outputs": [
    {
     "name": "stdout",
     "output_type": "stream",
     "text": [
      "    Start Replacing Layers\n"
     ]
    },
    {
     "ename": "ExecuteError",
     "evalue": "Failed to execute. Parameters are not valid.\nERROR 000732: Target Layer: Dataset 'https://tiles.arcgis.com/tiles/MzCtPDSne0rpIt7V/arcgis/rest/services/CDOM_DP/MapServer' does not exist or is not supported\nFailed to execute (ReplaceWebLayer).\n",
     "output_type": "error",
     "traceback": [
      "\u001b[1;31m---------------------------------------------------------------------------\u001b[0m",
      "\u001b[1;31mExecuteError\u001b[0m                              Traceback (most recent call last)",
      "\u001b[1;32m<ipython-input-11-ee1d4d2f90f0>\u001b[0m in \u001b[0;36m<module>\u001b[1;34m\u001b[0m\n\u001b[0;32m      4\u001b[0m \u001b[0marchive_serviceName\u001b[0m \u001b[1;33m=\u001b[0m \u001b[1;34mr'CDOM_DP'\u001b[0m \u001b[1;33m+\u001b[0m \u001b[1;34mr'archive'\u001b[0m \u001b[1;33m+\u001b[0m \u001b[0mstr\u001b[0m\u001b[1;33m(\u001b[0m\u001b[0mdt\u001b[0m\u001b[1;33m.\u001b[0m\u001b[0mdatetime\u001b[0m\u001b[1;33m.\u001b[0m\u001b[0mtoday\u001b[0m\u001b[1;33m(\u001b[0m\u001b[1;33m)\u001b[0m\u001b[1;33m.\u001b[0m\u001b[0mstrftime\u001b[0m\u001b[1;33m(\u001b[0m\u001b[1;34m'%Y%m%d'\u001b[0m\u001b[1;33m)\u001b[0m\u001b[1;33m)\u001b[0m\u001b[1;33m\u001b[0m\u001b[1;33m\u001b[0m\u001b[0m\n\u001b[0;32m      5\u001b[0m \u001b[1;33m\u001b[0m\u001b[0m\n\u001b[1;32m----> 6\u001b[1;33m \u001b[0marcpy\u001b[0m\u001b[1;33m.\u001b[0m\u001b[0mserver\u001b[0m\u001b[1;33m.\u001b[0m\u001b[0mReplaceWebLayer\u001b[0m\u001b[1;33m(\u001b[0m\u001b[0mmain_service\u001b[0m\u001b[1;33m,\u001b[0m \u001b[0marchive_serviceName\u001b[0m\u001b[1;33m,\u001b[0m \u001b[0minput_service\u001b[0m\u001b[1;33m)\u001b[0m\u001b[1;33m\u001b[0m\u001b[1;33m\u001b[0m\u001b[0m\n\u001b[0m",
      "\u001b[1;32mC:\\Program Files\\ArcGIS\\Pro\\Resources\\ArcPy\\arcpy\\server.py\u001b[0m in \u001b[0;36mReplaceWebLayer\u001b[1;34m(target_layer, archive_layer_name, update_layer, replace_item_info, create_new_item)\u001b[0m\n\u001b[0;32m   1121\u001b[0m         \u001b[1;32mreturn\u001b[0m \u001b[0mretval\u001b[0m\u001b[1;33m\u001b[0m\u001b[1;33m\u001b[0m\u001b[0m\n\u001b[0;32m   1122\u001b[0m     \u001b[1;32mexcept\u001b[0m \u001b[0mException\u001b[0m \u001b[1;32mas\u001b[0m \u001b[0me\u001b[0m\u001b[1;33m:\u001b[0m\u001b[1;33m\u001b[0m\u001b[1;33m\u001b[0m\u001b[0m\n\u001b[1;32m-> 1123\u001b[1;33m         \u001b[1;32mraise\u001b[0m \u001b[0me\u001b[0m\u001b[1;33m\u001b[0m\u001b[1;33m\u001b[0m\u001b[0m\n\u001b[0m\u001b[0;32m   1124\u001b[0m \u001b[1;33m\u001b[0m\u001b[0m\n\u001b[0;32m   1125\u001b[0m \u001b[1;33m@\u001b[0m\u001b[0mgptooldoc\u001b[0m\u001b[1;33m(\u001b[0m\u001b[1;34m'StageService_server'\u001b[0m\u001b[1;33m,\u001b[0m \u001b[1;32mNone\u001b[0m\u001b[1;33m)\u001b[0m\u001b[1;33m\u001b[0m\u001b[1;33m\u001b[0m\u001b[0m\n",
      "\u001b[1;32mC:\\Program Files\\ArcGIS\\Pro\\Resources\\ArcPy\\arcpy\\server.py\u001b[0m in \u001b[0;36mReplaceWebLayer\u001b[1;34m(target_layer, archive_layer_name, update_layer, replace_item_info, create_new_item)\u001b[0m\n\u001b[0;32m   1118\u001b[0m     \u001b[1;32mfrom\u001b[0m \u001b[0marcpy\u001b[0m\u001b[1;33m.\u001b[0m\u001b[0marcobjects\u001b[0m\u001b[1;33m.\u001b[0m\u001b[0marcobjectconversion\u001b[0m \u001b[1;32mimport\u001b[0m \u001b[0mconvertArcObjectToPythonObject\u001b[0m\u001b[1;33m\u001b[0m\u001b[1;33m\u001b[0m\u001b[0m\n\u001b[0;32m   1119\u001b[0m     \u001b[1;32mtry\u001b[0m\u001b[1;33m:\u001b[0m\u001b[1;33m\u001b[0m\u001b[1;33m\u001b[0m\u001b[0m\n\u001b[1;32m-> 1120\u001b[1;33m         \u001b[0mretval\u001b[0m \u001b[1;33m=\u001b[0m \u001b[0mconvertArcObjectToPythonObject\u001b[0m\u001b[1;33m(\u001b[0m\u001b[0mgp\u001b[0m\u001b[1;33m.\u001b[0m\u001b[0mReplaceWebLayer_server\u001b[0m\u001b[1;33m(\u001b[0m\u001b[1;33m*\u001b[0m\u001b[0mgp_fixargs\u001b[0m\u001b[1;33m(\u001b[0m\u001b[1;33m(\u001b[0m\u001b[0mtarget_layer\u001b[0m\u001b[1;33m,\u001b[0m \u001b[0marchive_layer_name\u001b[0m\u001b[1;33m,\u001b[0m \u001b[0mupdate_layer\u001b[0m\u001b[1;33m,\u001b[0m \u001b[0mreplace_item_info\u001b[0m\u001b[1;33m,\u001b[0m \u001b[0mcreate_new_item\u001b[0m\u001b[1;33m)\u001b[0m\u001b[1;33m,\u001b[0m \u001b[1;32mTrue\u001b[0m\u001b[1;33m)\u001b[0m\u001b[1;33m)\u001b[0m\u001b[1;33m)\u001b[0m\u001b[1;33m\u001b[0m\u001b[1;33m\u001b[0m\u001b[0m\n\u001b[0m\u001b[0;32m   1121\u001b[0m         \u001b[1;32mreturn\u001b[0m \u001b[0mretval\u001b[0m\u001b[1;33m\u001b[0m\u001b[1;33m\u001b[0m\u001b[0m\n\u001b[0;32m   1122\u001b[0m     \u001b[1;32mexcept\u001b[0m \u001b[0mException\u001b[0m \u001b[1;32mas\u001b[0m \u001b[0me\u001b[0m\u001b[1;33m:\u001b[0m\u001b[1;33m\u001b[0m\u001b[1;33m\u001b[0m\u001b[0m\n",
      "\u001b[1;32mC:\\Program Files\\ArcGIS\\Pro\\Resources\\ArcPy\\arcpy\\geoprocessing\\_base.py\u001b[0m in \u001b[0;36m<lambda>\u001b[1;34m(*args)\u001b[0m\n\u001b[0;32m    510\u001b[0m         \u001b[0mval\u001b[0m \u001b[1;33m=\u001b[0m \u001b[0mgetattr\u001b[0m\u001b[1;33m(\u001b[0m\u001b[0mself\u001b[0m\u001b[1;33m.\u001b[0m\u001b[0m_gp\u001b[0m\u001b[1;33m,\u001b[0m \u001b[0mattr\u001b[0m\u001b[1;33m)\u001b[0m\u001b[1;33m\u001b[0m\u001b[1;33m\u001b[0m\u001b[0m\n\u001b[0;32m    511\u001b[0m         \u001b[1;32mif\u001b[0m \u001b[0mcallable\u001b[0m\u001b[1;33m(\u001b[0m\u001b[0mval\u001b[0m\u001b[1;33m)\u001b[0m\u001b[1;33m:\u001b[0m\u001b[1;33m\u001b[0m\u001b[1;33m\u001b[0m\u001b[0m\n\u001b[1;32m--> 512\u001b[1;33m             \u001b[1;32mreturn\u001b[0m \u001b[1;32mlambda\u001b[0m \u001b[1;33m*\u001b[0m\u001b[0margs\u001b[0m\u001b[1;33m:\u001b[0m \u001b[0mval\u001b[0m\u001b[1;33m(\u001b[0m\u001b[1;33m*\u001b[0m\u001b[0mgp_fixargs\u001b[0m\u001b[1;33m(\u001b[0m\u001b[0margs\u001b[0m\u001b[1;33m,\u001b[0m \u001b[1;32mTrue\u001b[0m\u001b[1;33m)\u001b[0m\u001b[1;33m)\u001b[0m\u001b[1;33m\u001b[0m\u001b[1;33m\u001b[0m\u001b[0m\n\u001b[0m\u001b[0;32m    513\u001b[0m         \u001b[1;32melse\u001b[0m\u001b[1;33m:\u001b[0m\u001b[1;33m\u001b[0m\u001b[1;33m\u001b[0m\u001b[0m\n\u001b[0;32m    514\u001b[0m             \u001b[1;32mreturn\u001b[0m \u001b[0mconvertArcObjectToPythonObject\u001b[0m\u001b[1;33m(\u001b[0m\u001b[0mval\u001b[0m\u001b[1;33m)\u001b[0m\u001b[1;33m\u001b[0m\u001b[1;33m\u001b[0m\u001b[0m\n",
      "\u001b[1;31mExecuteError\u001b[0m: Failed to execute. Parameters are not valid.\nERROR 000732: Target Layer: Dataset 'https://tiles.arcgis.com/tiles/MzCtPDSne0rpIt7V/arcgis/rest/services/CDOM_DP/MapServer' does not exist or is not supported\nFailed to execute (ReplaceWebLayer).\n"
     ]
    }
   ],
   "source": [
    "print(\"    Start Replacing Layers\")\n",
    "main_service = repr(r'https://tiles.arcgis.com/tiles/MzCtPDSne0rpIt7V/arcgis/rest/services/' + r'CDOM_DP' + r'/MapServer')\n",
    "input_service = repr(r'https://tiles.arcgis.com/tiles/MzCtPDSne0rpIt7V/arcgis/rest/services/' + r'CDOM_DP20220331' + r'/MapServer')\n",
    "archive_serviceName = r'CDOM_DP' + r'archive' + str(dt.datetime.today().strftime('%Y%m%d'))\n",
    "\n",
    "arcpy.server.ReplaceWebLayer(main_service, archive_serviceName, input_service)"
   ]
  },
  {
   "cell_type": "code",
   "execution_count": 7,
   "metadata": {},
   "outputs": [
    {
     "ename": "NameError",
     "evalue": "name 'sddraft_output_filename' is not defined",
     "output_type": "error",
     "traceback": [
      "\u001b[1;31m---------------------------------------------------------------------------\u001b[0m",
      "\u001b[1;31mNameError\u001b[0m                                 Traceback (most recent call last)",
      "\u001b[1;32m<ipython-input-7-c7229d58f2d3>\u001b[0m in \u001b[0;36m<module>\u001b[1;34m\u001b[0m\n\u001b[0;32m      7\u001b[0m \u001b[0marcpy\u001b[0m\u001b[1;33m.\u001b[0m\u001b[0mReplaceWebLayer_server\u001b[0m\u001b[1;33m(\u001b[0m\u001b[0mmain_service\u001b[0m\u001b[1;33m,\u001b[0m \u001b[0marchive_serviceName\u001b[0m\u001b[1;33m,\u001b[0m \u001b[0minput_service\u001b[0m\u001b[1;33m)\u001b[0m\u001b[1;33m\u001b[0m\u001b[1;33m\u001b[0m\u001b[0m\n\u001b[0;32m      8\u001b[0m \u001b[1;33m\u001b[0m\u001b[0m\n\u001b[1;32m----> 9\u001b[1;33m \u001b[0mos\u001b[0m\u001b[1;33m.\u001b[0m\u001b[0mremove\u001b[0m\u001b[1;33m(\u001b[0m\u001b[0msddraft_output_filename\u001b[0m\u001b[1;33m)\u001b[0m\u001b[1;33m\u001b[0m\u001b[1;33m\u001b[0m\u001b[0m\n\u001b[0m\u001b[0;32m     10\u001b[0m \u001b[0mos\u001b[0m\u001b[1;33m.\u001b[0m\u001b[0mremove\u001b[0m\u001b[1;33m(\u001b[0m\u001b[0msd_output_filename\u001b[0m\u001b[1;33m)\u001b[0m\u001b[1;33m\u001b[0m\u001b[1;33m\u001b[0m\u001b[0m\n\u001b[0;32m     11\u001b[0m \u001b[0mos\u001b[0m\u001b[1;33m.\u001b[0m\u001b[0mremove\u001b[0m\u001b[1;33m(\u001b[0m\u001b[0msddraft_temp_output_filename\u001b[0m\u001b[1;33m)\u001b[0m\u001b[1;33m\u001b[0m\u001b[1;33m\u001b[0m\u001b[0m\n",
      "\u001b[1;31mNameError\u001b[0m: name 'sddraft_output_filename' is not defined"
     ]
    }
   ],
   "source": [
    "service_name = 'chla' + str(dt.datetime.today().strftime('%Y%m%d'))\n",
    "\n",
    "main_service = r'https://tiles.arcgis.com/tiles/MzCtPDSne0rpIt7V/arcgis/rest/services/' + 'chla' + r'/MapServer'\n",
    "input_service = r'https://tiles.arcgis.com/tiles/MzCtPDSne0rpIt7V/arcgis/rest/services/' + service_name + r'/MapServer'\n",
    "archive_serviceName = 'chla' + r'archive' + str(dt.datetime.today().strftime('%Y%m%d'))\n",
    "\n",
    "arcpy.ReplaceWebLayer_server(main_service, archive_serviceName, input_service)\n",
    "\n",
    "os.remove(sddraft_output_filename)\n",
    "os.remove(sd_output_filename)\n",
    "os.remove(sddraft_temp_output_filename)"
   ]
  },
  {
   "cell_type": "code",
   "execution_count": 20,
   "metadata": {},
   "outputs": [
    {
     "data": {
      "text/plain": [
       "{'token': 'OGONfUk-Fzn0YgIFd5fCOMsEvVYX1MYn_BPOj4ZGh3ZubA_zllJqHHvfv9QVp4-h-9Xxo_JorcWJpEqpDckBB7wHyT1cfULxwsSHvD5Out7ziyN1kqUavGlZhQIa6biABQouHQ5tB55CctIR_Xhw7KPxtsbjXnBKrl2fM7wgSvE7fjV-r-rzbolCBcjU7chsqMQgKQxoOFhDiTC1xGoBeNiIDWjPbk7uRLyIb14gAS0.',\n",
       " 'referer': 'http://www.esri.com/AGO/28666298-5D8D-443D-8638-AB5BF3746B16',\n",
       " 'expires': 1639878919}"
      ]
     },
     "execution_count": 20,
     "metadata": {},
     "output_type": "execute_result"
    }
   ],
   "source": [
    "arcpy.SignInToPortal(\"https://www.arcgis.com\", \"zuluzi\", \"Jem987dzem!\")"
   ]
  },
  {
   "cell_type": "code",
   "execution_count": 24,
   "metadata": {},
   "outputs": [
    {
     "ename": "ExecuteError",
     "evalue": "ERROR 160235: There is not enough storage space to complete the operation.\nFailed to execute (ManageMapServerCacheTiles).\n",
     "output_type": "error",
     "traceback": [
      "\u001b[1;31m---------------------------------------------------------------------------\u001b[0m",
      "\u001b[1;31mExecuteError\u001b[0m                              Traceback (most recent call last)",
      "\u001b[1;32m<ipython-input-24-bd3a81e718e4>\u001b[0m in \u001b[0;36m<module>\u001b[1;34m\u001b[0m\n\u001b[0;32m      1\u001b[0m \u001b[0minput_service\u001b[0m \u001b[1;33m=\u001b[0m \u001b[1;34mr'https://tiles.arcgis.com/tiles/MzCtPDSne0rpIt7V/arcgis/rest/services/'\u001b[0m \u001b[1;33m+\u001b[0m \u001b[1;34m' chlatemp20211212'\u001b[0m \u001b[1;33m+\u001b[0m \u001b[1;34mr'/MapServer'\u001b[0m\u001b[1;33m\u001b[0m\u001b[1;33m\u001b[0m\u001b[0m\n\u001b[0;32m      2\u001b[0m \u001b[1;31m# arcpy.server.DeleteMapServerCache(input_service)\u001b[0m\u001b[1;33m\u001b[0m\u001b[1;33m\u001b[0m\u001b[1;33m\u001b[0m\u001b[0m\n\u001b[1;32m----> 3\u001b[1;33m \u001b[0marcpy\u001b[0m\u001b[1;33m.\u001b[0m\u001b[0mManageMapServerCacheTiles_server\u001b[0m\u001b[1;33m(\u001b[0m\u001b[0minput_service\u001b[0m\u001b[1;33m,\u001b[0m \u001b[1;33m[\u001b[0m\u001b[1;36m500000\u001b[0m\u001b[1;33m,\u001b[0m\u001b[1;36m50000\u001b[0m\u001b[1;33m,\u001b[0m\u001b[1;36m10000\u001b[0m\u001b[1;33m]\u001b[0m\u001b[1;33m,\u001b[0m\u001b[1;34m\"DELETE_TILES\"\u001b[0m\u001b[1;33m)\u001b[0m\u001b[1;33m\u001b[0m\u001b[1;33m\u001b[0m\u001b[0m\n\u001b[0m",
      "\u001b[1;32mC:\\Program Files\\ArcGIS\\Pro\\Resources\\ArcPy\\arcpy\\server.py\u001b[0m in \u001b[0;36mManageMapServerCacheTiles\u001b[1;34m(input_service, scales, update_mode, num_of_caching_service_instances, area_of_interest, update_extent, wait_for_job_completion, portal_url)\u001b[0m\n\u001b[0;32m    669\u001b[0m         \u001b[1;32mreturn\u001b[0m \u001b[0mretval\u001b[0m\u001b[1;33m\u001b[0m\u001b[1;33m\u001b[0m\u001b[0m\n\u001b[0;32m    670\u001b[0m     \u001b[1;32mexcept\u001b[0m \u001b[0mException\u001b[0m \u001b[1;32mas\u001b[0m \u001b[0me\u001b[0m\u001b[1;33m:\u001b[0m\u001b[1;33m\u001b[0m\u001b[1;33m\u001b[0m\u001b[0m\n\u001b[1;32m--> 671\u001b[1;33m         \u001b[1;32mraise\u001b[0m \u001b[0me\u001b[0m\u001b[1;33m\u001b[0m\u001b[1;33m\u001b[0m\u001b[0m\n\u001b[0m\u001b[0;32m    672\u001b[0m \u001b[1;33m\u001b[0m\u001b[0m\n\u001b[0;32m    673\u001b[0m \u001b[1;33m\u001b[0m\u001b[0m\n",
      "\u001b[1;32mC:\\Program Files\\ArcGIS\\Pro\\Resources\\ArcPy\\arcpy\\server.py\u001b[0m in \u001b[0;36mManageMapServerCacheTiles\u001b[1;34m(input_service, scales, update_mode, num_of_caching_service_instances, area_of_interest, update_extent, wait_for_job_completion, portal_url)\u001b[0m\n\u001b[0;32m    666\u001b[0m     \u001b[1;32mfrom\u001b[0m \u001b[0marcpy\u001b[0m\u001b[1;33m.\u001b[0m\u001b[0marcobjects\u001b[0m\u001b[1;33m.\u001b[0m\u001b[0marcobjectconversion\u001b[0m \u001b[1;32mimport\u001b[0m \u001b[0mconvertArcObjectToPythonObject\u001b[0m\u001b[1;33m\u001b[0m\u001b[1;33m\u001b[0m\u001b[0m\n\u001b[0;32m    667\u001b[0m     \u001b[1;32mtry\u001b[0m\u001b[1;33m:\u001b[0m\u001b[1;33m\u001b[0m\u001b[1;33m\u001b[0m\u001b[0m\n\u001b[1;32m--> 668\u001b[1;33m         \u001b[0mretval\u001b[0m \u001b[1;33m=\u001b[0m \u001b[0mconvertArcObjectToPythonObject\u001b[0m\u001b[1;33m(\u001b[0m\u001b[0mgp\u001b[0m\u001b[1;33m.\u001b[0m\u001b[0mManageMapServerCacheTiles_server\u001b[0m\u001b[1;33m(\u001b[0m\u001b[1;33m*\u001b[0m\u001b[0mgp_fixargs\u001b[0m\u001b[1;33m(\u001b[0m\u001b[1;33m(\u001b[0m\u001b[0minput_service\u001b[0m\u001b[1;33m,\u001b[0m \u001b[0mscales\u001b[0m\u001b[1;33m,\u001b[0m \u001b[0mupdate_mode\u001b[0m\u001b[1;33m,\u001b[0m \u001b[0mnum_of_caching_service_instances\u001b[0m\u001b[1;33m,\u001b[0m \u001b[0marea_of_interest\u001b[0m\u001b[1;33m,\u001b[0m \u001b[0mupdate_extent\u001b[0m\u001b[1;33m,\u001b[0m \u001b[0mwait_for_job_completion\u001b[0m\u001b[1;33m,\u001b[0m \u001b[0mportal_url\u001b[0m\u001b[1;33m)\u001b[0m\u001b[1;33m,\u001b[0m \u001b[1;32mTrue\u001b[0m\u001b[1;33m)\u001b[0m\u001b[1;33m)\u001b[0m\u001b[1;33m)\u001b[0m\u001b[1;33m\u001b[0m\u001b[1;33m\u001b[0m\u001b[0m\n\u001b[0m\u001b[0;32m    669\u001b[0m         \u001b[1;32mreturn\u001b[0m \u001b[0mretval\u001b[0m\u001b[1;33m\u001b[0m\u001b[1;33m\u001b[0m\u001b[0m\n\u001b[0;32m    670\u001b[0m     \u001b[1;32mexcept\u001b[0m \u001b[0mException\u001b[0m \u001b[1;32mas\u001b[0m \u001b[0me\u001b[0m\u001b[1;33m:\u001b[0m\u001b[1;33m\u001b[0m\u001b[1;33m\u001b[0m\u001b[0m\n",
      "\u001b[1;32mC:\\Program Files\\ArcGIS\\Pro\\Resources\\ArcPy\\arcpy\\geoprocessing\\_base.py\u001b[0m in \u001b[0;36m<lambda>\u001b[1;34m(*args)\u001b[0m\n\u001b[0;32m    510\u001b[0m         \u001b[0mval\u001b[0m \u001b[1;33m=\u001b[0m \u001b[0mgetattr\u001b[0m\u001b[1;33m(\u001b[0m\u001b[0mself\u001b[0m\u001b[1;33m.\u001b[0m\u001b[0m_gp\u001b[0m\u001b[1;33m,\u001b[0m \u001b[0mattr\u001b[0m\u001b[1;33m)\u001b[0m\u001b[1;33m\u001b[0m\u001b[1;33m\u001b[0m\u001b[0m\n\u001b[0;32m    511\u001b[0m         \u001b[1;32mif\u001b[0m \u001b[0mcallable\u001b[0m\u001b[1;33m(\u001b[0m\u001b[0mval\u001b[0m\u001b[1;33m)\u001b[0m\u001b[1;33m:\u001b[0m\u001b[1;33m\u001b[0m\u001b[1;33m\u001b[0m\u001b[0m\n\u001b[1;32m--> 512\u001b[1;33m             \u001b[1;32mreturn\u001b[0m \u001b[1;32mlambda\u001b[0m \u001b[1;33m*\u001b[0m\u001b[0margs\u001b[0m\u001b[1;33m:\u001b[0m \u001b[0mval\u001b[0m\u001b[1;33m(\u001b[0m\u001b[1;33m*\u001b[0m\u001b[0mgp_fixargs\u001b[0m\u001b[1;33m(\u001b[0m\u001b[0margs\u001b[0m\u001b[1;33m,\u001b[0m \u001b[1;32mTrue\u001b[0m\u001b[1;33m)\u001b[0m\u001b[1;33m)\u001b[0m\u001b[1;33m\u001b[0m\u001b[1;33m\u001b[0m\u001b[0m\n\u001b[0m\u001b[0;32m    513\u001b[0m         \u001b[1;32melse\u001b[0m\u001b[1;33m:\u001b[0m\u001b[1;33m\u001b[0m\u001b[1;33m\u001b[0m\u001b[0m\n\u001b[0;32m    514\u001b[0m             \u001b[1;32mreturn\u001b[0m \u001b[0mconvertArcObjectToPythonObject\u001b[0m\u001b[1;33m(\u001b[0m\u001b[0mval\u001b[0m\u001b[1;33m)\u001b[0m\u001b[1;33m\u001b[0m\u001b[1;33m\u001b[0m\u001b[0m\n",
      "\u001b[1;31mExecuteError\u001b[0m: ERROR 160235: There is not enough storage space to complete the operation.\nFailed to execute (ManageMapServerCacheTiles).\n"
     ]
    }
   ],
   "source": [
    "input_service = r'https://tiles.arcgis.com/tiles/MzCtPDSne0rpIt7V/arcgis/rest/services/' + ' chlatemp20211212' + r'/MapServer'\n",
    "# arcpy.server.DeleteMapServerCache(input_service)\n",
    "arcpy.ManageMapServerCacheTiles_server(input_service, [500000,50000,10000],\"DELETE_TILES\")"
   ]
  },
  {
   "cell_type": "code",
   "execution_count": 25,
   "metadata": {},
   "outputs": [
    {
     "ename": "ExecuteError",
     "evalue": "Failed to execute. Parameters are not valid.\nERROR 001265: Admin or publisher connection required.\nFailed to execute (DeleteMapServerCache).\n",
     "output_type": "error",
     "traceback": [
      "\u001b[1;31m---------------------------------------------------------------------------\u001b[0m",
      "\u001b[1;31mExecuteError\u001b[0m                              Traceback (most recent call last)",
      "\u001b[1;32m<ipython-input-25-d175ba507d3d>\u001b[0m in \u001b[0;36m<module>\u001b[1;34m\u001b[0m\n\u001b[1;32m----> 1\u001b[1;33m \u001b[0marcpy\u001b[0m\u001b[1;33m.\u001b[0m\u001b[0mserver\u001b[0m\u001b[1;33m.\u001b[0m\u001b[0mDeleteMapServerCache\u001b[0m\u001b[1;33m(\u001b[0m\u001b[0minput_service\u001b[0m\u001b[1;33m)\u001b[0m\u001b[1;33m\u001b[0m\u001b[1;33m\u001b[0m\u001b[0m\n\u001b[0m",
      "\u001b[1;32mC:\\Program Files\\ArcGIS\\Pro\\Resources\\ArcPy\\arcpy\\server.py\u001b[0m in \u001b[0;36mDeleteMapServerCache\u001b[1;34m(input_service, num_of_caching_service_instances)\u001b[0m\n\u001b[0;32m    219\u001b[0m         \u001b[1;32mreturn\u001b[0m \u001b[0mretval\u001b[0m\u001b[1;33m\u001b[0m\u001b[1;33m\u001b[0m\u001b[0m\n\u001b[0;32m    220\u001b[0m     \u001b[1;32mexcept\u001b[0m \u001b[0mException\u001b[0m \u001b[1;32mas\u001b[0m \u001b[0me\u001b[0m\u001b[1;33m:\u001b[0m\u001b[1;33m\u001b[0m\u001b[1;33m\u001b[0m\u001b[0m\n\u001b[1;32m--> 221\u001b[1;33m         \u001b[1;32mraise\u001b[0m \u001b[0me\u001b[0m\u001b[1;33m\u001b[0m\u001b[1;33m\u001b[0m\u001b[0m\n\u001b[0m\u001b[0;32m    222\u001b[0m \u001b[1;33m\u001b[0m\u001b[0m\n\u001b[0;32m    223\u001b[0m \u001b[1;33m@\u001b[0m\u001b[0mgptooldoc\u001b[0m\u001b[1;33m(\u001b[0m\u001b[1;34m'ExportMapServerCache_server'\u001b[0m\u001b[1;33m,\u001b[0m \u001b[1;32mNone\u001b[0m\u001b[1;33m)\u001b[0m\u001b[1;33m\u001b[0m\u001b[1;33m\u001b[0m\u001b[0m\n",
      "\u001b[1;32mC:\\Program Files\\ArcGIS\\Pro\\Resources\\ArcPy\\arcpy\\server.py\u001b[0m in \u001b[0;36mDeleteMapServerCache\u001b[1;34m(input_service, num_of_caching_service_instances)\u001b[0m\n\u001b[0;32m    216\u001b[0m     \u001b[1;32mfrom\u001b[0m \u001b[0marcpy\u001b[0m\u001b[1;33m.\u001b[0m\u001b[0marcobjects\u001b[0m\u001b[1;33m.\u001b[0m\u001b[0marcobjectconversion\u001b[0m \u001b[1;32mimport\u001b[0m \u001b[0mconvertArcObjectToPythonObject\u001b[0m\u001b[1;33m\u001b[0m\u001b[1;33m\u001b[0m\u001b[0m\n\u001b[0;32m    217\u001b[0m     \u001b[1;32mtry\u001b[0m\u001b[1;33m:\u001b[0m\u001b[1;33m\u001b[0m\u001b[1;33m\u001b[0m\u001b[0m\n\u001b[1;32m--> 218\u001b[1;33m         \u001b[0mretval\u001b[0m \u001b[1;33m=\u001b[0m \u001b[0mconvertArcObjectToPythonObject\u001b[0m\u001b[1;33m(\u001b[0m\u001b[0mgp\u001b[0m\u001b[1;33m.\u001b[0m\u001b[0mDeleteMapServerCache_server\u001b[0m\u001b[1;33m(\u001b[0m\u001b[1;33m*\u001b[0m\u001b[0mgp_fixargs\u001b[0m\u001b[1;33m(\u001b[0m\u001b[1;33m(\u001b[0m\u001b[0minput_service\u001b[0m\u001b[1;33m,\u001b[0m \u001b[0mnum_of_caching_service_instances\u001b[0m\u001b[1;33m)\u001b[0m\u001b[1;33m,\u001b[0m \u001b[1;32mTrue\u001b[0m\u001b[1;33m)\u001b[0m\u001b[1;33m)\u001b[0m\u001b[1;33m)\u001b[0m\u001b[1;33m\u001b[0m\u001b[1;33m\u001b[0m\u001b[0m\n\u001b[0m\u001b[0;32m    219\u001b[0m         \u001b[1;32mreturn\u001b[0m \u001b[0mretval\u001b[0m\u001b[1;33m\u001b[0m\u001b[1;33m\u001b[0m\u001b[0m\n\u001b[0;32m    220\u001b[0m     \u001b[1;32mexcept\u001b[0m \u001b[0mException\u001b[0m \u001b[1;32mas\u001b[0m \u001b[0me\u001b[0m\u001b[1;33m:\u001b[0m\u001b[1;33m\u001b[0m\u001b[1;33m\u001b[0m\u001b[0m\n",
      "\u001b[1;32mC:\\Program Files\\ArcGIS\\Pro\\Resources\\ArcPy\\arcpy\\geoprocessing\\_base.py\u001b[0m in \u001b[0;36m<lambda>\u001b[1;34m(*args)\u001b[0m\n\u001b[0;32m    510\u001b[0m         \u001b[0mval\u001b[0m \u001b[1;33m=\u001b[0m \u001b[0mgetattr\u001b[0m\u001b[1;33m(\u001b[0m\u001b[0mself\u001b[0m\u001b[1;33m.\u001b[0m\u001b[0m_gp\u001b[0m\u001b[1;33m,\u001b[0m \u001b[0mattr\u001b[0m\u001b[1;33m)\u001b[0m\u001b[1;33m\u001b[0m\u001b[1;33m\u001b[0m\u001b[0m\n\u001b[0;32m    511\u001b[0m         \u001b[1;32mif\u001b[0m \u001b[0mcallable\u001b[0m\u001b[1;33m(\u001b[0m\u001b[0mval\u001b[0m\u001b[1;33m)\u001b[0m\u001b[1;33m:\u001b[0m\u001b[1;33m\u001b[0m\u001b[1;33m\u001b[0m\u001b[0m\n\u001b[1;32m--> 512\u001b[1;33m             \u001b[1;32mreturn\u001b[0m \u001b[1;32mlambda\u001b[0m \u001b[1;33m*\u001b[0m\u001b[0margs\u001b[0m\u001b[1;33m:\u001b[0m \u001b[0mval\u001b[0m\u001b[1;33m(\u001b[0m\u001b[1;33m*\u001b[0m\u001b[0mgp_fixargs\u001b[0m\u001b[1;33m(\u001b[0m\u001b[0margs\u001b[0m\u001b[1;33m,\u001b[0m \u001b[1;32mTrue\u001b[0m\u001b[1;33m)\u001b[0m\u001b[1;33m)\u001b[0m\u001b[1;33m\u001b[0m\u001b[1;33m\u001b[0m\u001b[0m\n\u001b[0m\u001b[0;32m    513\u001b[0m         \u001b[1;32melse\u001b[0m\u001b[1;33m:\u001b[0m\u001b[1;33m\u001b[0m\u001b[1;33m\u001b[0m\u001b[0m\n\u001b[0;32m    514\u001b[0m             \u001b[1;32mreturn\u001b[0m \u001b[0mconvertArcObjectToPythonObject\u001b[0m\u001b[1;33m(\u001b[0m\u001b[0mval\u001b[0m\u001b[1;33m)\u001b[0m\u001b[1;33m\u001b[0m\u001b[1;33m\u001b[0m\u001b[0m\n",
      "\u001b[1;31mExecuteError\u001b[0m: Failed to execute. Parameters are not valid.\nERROR 001265: Admin or publisher connection required.\nFailed to execute (DeleteMapServerCache).\n"
     ]
    }
   ],
   "source": [
    "arcpy.server.DeleteMapServerCache(input_service)"
   ]
  },
  {
   "cell_type": "code",
   "execution_count": 3,
   "metadata": {},
   "outputs": [
    {
     "name": "stdout",
     "output_type": "stream",
     "text": [
      "Start publishing : turbidity\n",
      "    Start Staging\n",
      "    Start Uploading\n",
      "    Start Creating Tiles\n",
      "    Start Replacing Layers\n",
      "Finish publishing : turbidity\n"
     ]
    }
   ],
   "source": [
    "for file in os.listdir(SHAREdir):\n",
    "    if file.endswith('turbidity_merged_masked.tif'):\n",
    "        uploadAGOL(file.split('_')[0])"
   ]
  },
  {
   "cell_type": "code",
   "execution_count": 7,
   "metadata": {},
   "outputs": [
    {
     "name": "stdout",
     "output_type": "stream",
     "text": [
      "    Start Replacing Layers\n"
     ]
    },
    {
     "data": {
      "text/html": [
       "<div class='gpresult'><h2>Messages</h2><div id='messages' data-messages='[\"Start Time: sobota, 18 grudnia 2021 16:21:16\",\"Succeeded at sobota, 18 grudnia 2021 16:21:21 (Elapsed Time: 5,09 seconds)\"]' data-show='true'><div id = 'default' /></div></div>"
      ],
      "text/plain": [
       "<Result 'https://www.arcgis.com/home/item.html?id=e70aaae655ab406594691609f94aa633'>"
      ]
     },
     "execution_count": 7,
     "metadata": {},
     "output_type": "execute_result"
    }
   ],
   "source": [
    "arcpy.SignInToPortal(\"https://www.arcgis.com\", \"zuluzi\", \"Jem987dzem!\")\n",
    "# arcpy.SignOutFromPortal_server()\n",
    "\n",
    "service_name = 'turbidity20211218'\n",
    "indexName = 'turbidity'\n",
    "\n",
    "# print(\"    Start Creating Tiles\")\n",
    "# input_service = r'https://tiles.arcgis.com/tiles/MzCtPDSne0rpIt7V/arcgis/rest/services/' + service_name + r'/MapServer'\n",
    "# arcpy.ManageMapServerCacheTiles_server(input_service, [500000,50000,10000], \"RECREATE_ALL_TILES\")\n",
    "\n",
    "# Replace prod layer with temp\n",
    "print(\"    Start Replacing Layers\")\n",
    "main_service = r'https://tiles.arcgis.com/tiles/MzCtPDSne0rpIt7V/arcgis/rest/services/' + indexName + r'/MapServer'\n",
    "input_service = r'https://tiles.arcgis.com/tiles/MzCtPDSne0rpIt7V/arcgis/rest/services/' + service_name + r'/MapServer'\n",
    "archive_serviceName = indexName + r'archive' + str(dt.datetime.today().strftime('%Y%m%d'))\n",
    "\n",
    "arcpy.ReplaceWebLayer_server(main_service, archive_serviceName, input_service)"
   ]
  },
  {
   "cell_type": "code",
   "execution_count": 30,
   "metadata": {},
   "outputs": [
    {
     "name": "stdout",
     "output_type": "stream",
     "text": [
      "C:\\Users\\Asus\\OneDrive - Stowarzyszenie IAESTE Polska\\Studia\\GINinzynierka\\GINinz\\share\\CDOM\\temp\n"
     ]
    }
   ],
   "source": [
    "print(os.path.join(SHAREdir,'CDOM'+'temp'))"
   ]
  },
  {
   "cell_type": "code",
   "execution_count": 3,
   "metadata": {},
   "outputs": [],
   "source": [
    "import inspect\n",
    "import xml.dom.minidom as DOM\n",
    "\n",
    "arcpy.SignInToPortal(\"https://www.arcgis.com\", \"zuluzi\", \"Jem987dzem!\")\n",
    "outdir = HOMEdir\n",
    "service_name = 'CDOMtest'\n",
    "sddraft_filename = service_name + \".sddraft\"\n",
    "sddraft_output_filename = os.path.join(outdir, sddraft_filename)\n",
    "sd_filename = service_name + \".sd\"\n",
    "sd_output_filename = os.path.join(outdir, sd_filename)\n",
    "\n",
    "arcGISproProj = r\"C:\\Users\\Asus\\OneDrive - Stowarzyszenie IAESTE Polska\\Studia\\GINinzynierka\\GINinz\\GINinz_ArcGISPro_project\\GINinz_ArcGISPro_project.aprx\"\n",
    "aprx = arcpy.mp.ArcGISProject(arcGISproProj)\n",
    "m = aprx.listMaps('CDOM')[0]\n",
    "\n",
    "# Create TileSharingDraft and set metadata and portal folder properties\n",
    "server_type = \"HOSTING_SERVER\"\n",
    "sddraft = m.getWebLayerSharingDraft(server_type, \"TILE\", service_name)\n",
    "sddraft.credits = \"\"\n",
    "sddraft.description = \"Layer containg raster values for CDOM.\"\n",
    "sddraft.summary = \"\"\n",
    "sddraft.tags = \"Water Quality, Sentinel-2, CDOM\"\n",
    "sddraft.useLimitations = \"For internal use only\"\n",
    "sddraft.portalFolder = \"GINinz_prod\"\n",
    "sddraft.overwriteExistingService = True\n",
    "\n",
    "sddraft.exportToSDDraft(sddraft_output_filename)\n",
    "\n",
    "# # Stage\n",
    "# print(\"    Start Staging\")\n",
    "# arcpy.StageService_server(sddraft_output_filename, sd_output_filename)\n",
    "\n",
    "# print(sddraft)"
   ]
  },
  {
   "cell_type": "code",
   "execution_count": 17,
   "metadata": {},
   "outputs": [],
   "source": [
    "doc = DOM.parse(sddraft_output_filename)\n",
    "# configProps = doc.getElementsByTagName('Info')[0]\n",
    "# propArray = configProps.firstChild\n",
    "# propSets = propArray.childNodes\n",
    "# for propSet in propSets:\n",
    "#     keyValues = propSet.childNodes\n",
    "#     for keyValue in keyValues:\n",
    "#         print(keyValue.tagName)\n",
    "#         if keyValue.tagName == 'Key':\n",
    "#             print(keyValue.firstChild.data)\n",
    "#             # if keyValue.firstChild.data == \"WebCapabilities\":\n",
    "#             #     # Defaults are Map,Query,Data\n",
    "#             #     keyValue.nextSibling.firstChild.data = \"Map,Data\"\n",
    "\n",
    "# typeNames = doc.getElementsByTagName('TypeName')\n",
    "# for typeName in typeNames:\n",
    "#     # Get the TypeName to enable\n",
    "#     if typeName.firstChild.data == \"FeatureServer\":\n",
    "#         extension = typeName.parentNode\n",
    "#         for extElement in extension.childNodes:\n",
    "#             if extElement.tagName == 'Info':\n",
    "#                 for propSet in extElement.childNodes:\n",
    "#                     for prop in propSet.childNodes:\n",
    "#                         for prop1 in prop.childNodes:\n",
    "#                             if prop1.tagName == \"Key\":\n",
    "#                                 print(prop1.firstChild.data)\n",
    "#                                 if prop1.firstChild.data == 'WebCapabilities':\n",
    "#                                     # Defaults are Query,Create,Update,Delete,Uploads,Editing\n",
    "#                                     prop1.nextSibling.firstChild.data = \"Create,Sync,Query\"\n",
    "\n",
    "prop = doc.getElementsByTagName('ConfigurationProperties')[0]\n",
    "\n",
    "configProps = doc.getElementsByTagName('ConfigurationProperties')[0]\n",
    "propArray = configProps.firstChild\n",
    "propSets = propArray.childNodes\n",
    "for propSet in propSets:\n",
    "    keyValues = propSet.childNodes\n",
    "    for keyValue in keyValues:\n",
    "        if keyValue.tagName == 'Key':\n",
    "            if keyValue.firstChild.data == \"minScale\":\n",
    "                # set min scale\n",
    "                keyValue.nextSibling.firstChild.data = \"1200000.000000\"\n",
    "    for keyValue in keyValues:\n",
    "        if keyValue.tagName == 'Key':\n",
    "            if keyValue.firstChild.data == \"maxScale\":\n",
    "                # set max scale\n",
    "                keyValue.nextSibling.firstChild.data = \"4000.000000\"\n",
    "\n",
    "f = open(HOMEdir + '\\\\CDOMtest2.sddraft', 'w')\n",
    "doc.writexml( f )\n",
    "f.close()"
   ]
  },
  {
   "cell_type": "code",
   "execution_count": 18,
   "metadata": {},
   "outputs": [
    {
     "data": {
      "text/html": [
       "<div class='gpresult'><h2>Messages</h2><div id='messages' data-messages='[\"Start Time: środa, 15 grudnia 2021 22:01:44\",\"WARNING 000710: Unable to connect to the server\",\"Succeeded at środa, 15 grudnia 2021 22:02:23 (Elapsed Time: 39,49 seconds)\"]' data-show='true'><div id = 'default' /></div></div>"
      ],
      "text/plain": [
       "<Result 'C:\\\\Users\\\\Asus\\\\OneDrive - Stowarzyszenie IAESTE Polska\\\\Studia\\\\GINinzynierka\\\\GINinz\\\\CDOMtest2.sd'>"
      ]
     },
     "execution_count": 18,
     "metadata": {},
     "output_type": "execute_result"
    }
   ],
   "source": [
    "arcpy.StageService_server(HOMEdir + '\\\\CDOMtest2.sddraft', HOMEdir + '\\\\CDOMtest2.sd')"
   ]
  },
  {
   "cell_type": "code",
   "execution_count": 8,
   "metadata": {},
   "outputs": [
    {
     "data": {
      "text/plain": [
       "[('__class__', arcpy.sharing.TileSharingDraft),\n",
       " ('__delattr__',\n",
       "  <method-wrapper '__delattr__' of TileSharingDraft object at 0x000001C4A01FFE48>),\n",
       " ('__dict__',\n",
       "  {'_arc_object': <SharingDraftObject at 0x1c4a0b64890>,\n",
       "   'overwriteExistingService': True,\n",
       "   'serverType': 'HOSTING_SERVER',\n",
       "   'serviceType': 'TILE',\n",
       "   'serviceName': 'CDOMtest',\n",
       "   'portalFolder': 'GINinz_prod',\n",
       "   'summary': '',\n",
       "   'tags': 'Water Quality, Sentinel-2, CDOM',\n",
       "   'description': 'Layer containg raster values for CDOM.',\n",
       "   'credits': '',\n",
       "   'useLimitations': 'For internal use only',\n",
       "   'offline': False,\n",
       "   'server_type': 'HOSTING_SERVER',\n",
       "   'service_type': 'TILE',\n",
       "   '__id': 4,\n",
       "   '__m_path': 'CIMPATH=map/map.xml',\n",
       "   '__premise_path': 'C:\\\\Users\\\\Asus\\\\OneDrive - Stowarzyszenie IAESTE Polska\\\\Studia\\\\GINinzynierka\\\\GINinz\\\\GINinz_ArcGISPro_project\\\\GINinz_ArcGISPro_project.aprx',\n",
       "   '__llist': [],\n",
       "   '__tlist': []}),\n",
       " ('__dir__', <function TileSharingDraft.__dir__()>),\n",
       " ('__doc__', None),\n",
       " ('__eq__',\n",
       "  <method-wrapper '__eq__' of TileSharingDraft object at 0x000001C4A01FFE48>),\n",
       " ('__format__', <function TileSharingDraft.__format__(format_spec, /)>),\n",
       " ('__from_scripting_arc_object__',\n",
       "  <bound method _ObjectWithoutInitCall.__from_scripting_arc_object__ of <class 'arcpy.sharing.TileSharingDraft'>>),\n",
       " ('__ge__',\n",
       "  <method-wrapper '__ge__' of TileSharingDraft object at 0x000001C4A01FFE48>),\n",
       " ('__getattribute__',\n",
       "  <method-wrapper '__getattribute__' of TileSharingDraft object at 0x000001C4A01FFE48>),\n",
       " ('__gt__',\n",
       "  <method-wrapper '__gt__' of TileSharingDraft object at 0x000001C4A01FFE48>),\n",
       " ('__hash__',\n",
       "  <method-wrapper '__hash__' of TileSharingDraft object at 0x000001C4A01FFE48>),\n",
       " ('__id', 4),\n",
       " ('__init__',\n",
       "  <bound method TileSharingDraft.__init__ of <arcpy.sharing.TileSharingDraft object at 0x000001C4A01FFE48>>),\n",
       " ('__init_subclass__', <function TileSharingDraft.__init_subclass__>),\n",
       " ('__le__',\n",
       "  <method-wrapper '__le__' of TileSharingDraft object at 0x000001C4A01FFE48>),\n",
       " ('__llist', []),\n",
       " ('__lt__',\n",
       "  <method-wrapper '__lt__' of TileSharingDraft object at 0x000001C4A01FFE48>),\n",
       " ('__m_path', 'CIMPATH=map/map.xml'),\n",
       " ('__module__', 'arcpy.sharing'),\n",
       " ('__ne__',\n",
       "  <method-wrapper '__ne__' of TileSharingDraft object at 0x000001C4A01FFE48>),\n",
       " ('__new__', <function object.__new__(*args, **kwargs)>),\n",
       " ('__premise_path',\n",
       "  'C:\\\\Users\\\\Asus\\\\OneDrive - Stowarzyszenie IAESTE Polska\\\\Studia\\\\GINinzynierka\\\\GINinz\\\\GINinz_ArcGISPro_project\\\\GINinz_ArcGISPro_project.aprx'),\n",
       " ('__reduce__', <function TileSharingDraft.__reduce__()>),\n",
       " ('__reduce_ex__', <function TileSharingDraft.__reduce_ex__(protocol, /)>),\n",
       " ('__repr__',\n",
       "  <method-wrapper '__repr__' of TileSharingDraft object at 0x000001C4A01FFE48>),\n",
       " ('__setattr__',\n",
       "  <method-wrapper '__setattr__' of TileSharingDraft object at 0x000001C4A01FFE48>),\n",
       " ('__sizeof__', <function TileSharingDraft.__sizeof__()>),\n",
       " ('__str__',\n",
       "  <method-wrapper '__str__' of TileSharingDraft object at 0x000001C4A01FFE48>),\n",
       " ('__subclasshook__', <function TileSharingDraft.__subclasshook__>),\n",
       " ('__tlist', []),\n",
       " ('__weakref__', None),\n",
       " ('_arc_object', <SharingDraftObject at 0x1c4a0b64890>),\n",
       " ('credits', ''),\n",
       " ('description', 'Layer containg raster values for CDOM.'),\n",
       " ('exportToSDDraft',\n",
       "  <bound method TileSharingDraft.exportToSDDraft of <arcpy.sharing.TileSharingDraft object at 0x000001C4A01FFE48>>),\n",
       " ('offline', False),\n",
       " ('overwriteExistingService', True),\n",
       " ('portalFolder', 'GINinz_prod'),\n",
       " ('serverType', 'HOSTING_SERVER'),\n",
       " ('server_type', 'HOSTING_SERVER'),\n",
       " ('serviceName', 'CDOMtest'),\n",
       " ('serviceType', 'TILE'),\n",
       " ('service_type', 'TILE'),\n",
       " ('summary', ''),\n",
       " ('tags', 'Water Quality, Sentinel-2, CDOM'),\n",
       " ('useLimitations', 'For internal use only')]"
      ]
     },
     "execution_count": 8,
     "metadata": {},
     "output_type": "execute_result"
    }
   ],
   "source": [
    "inspect.getmembers(sddraft)"
   ]
  },
  {
   "cell_type": "code",
   "execution_count": 18,
   "metadata": {},
   "outputs": [
    {
     "name": "stdout",
     "output_type": "stream",
     "text": [
      "20211201\n"
     ]
    }
   ],
   "source": [
    "print(str(dt.datetime.today().strftime('%Y%m%d')))"
   ]
  },
  {
   "cell_type": "code",
   "execution_count": 18,
   "metadata": {},
   "outputs": [
    {
     "ename": "ValueError",
     "evalue": "Workspace is not set",
     "output_type": "error",
     "traceback": [
      "\u001b[1;31m---------------------------------------------------------------------------\u001b[0m",
      "\u001b[1;31mValueError\u001b[0m                                Traceback (most recent call last)",
      "\u001b[1;32m<ipython-input-18-774ccea7ee32>\u001b[0m in \u001b[0;36m<module>\u001b[1;34m\u001b[0m\n\u001b[1;32m----> 1\u001b[1;33m \u001b[0mtest\u001b[0m \u001b[1;33m=\u001b[0m \u001b[0marcpy\u001b[0m\u001b[1;33m.\u001b[0m\u001b[0mda\u001b[0m\u001b[1;33m.\u001b[0m\u001b[0mWalk\u001b[0m\u001b[1;33m(\u001b[0m\u001b[1;33m)\u001b[0m\u001b[1;33m\u001b[0m\u001b[1;33m\u001b[0m\u001b[0m\n\u001b[0m\u001b[0;32m      2\u001b[0m \u001b[0mprint\u001b[0m\u001b[1;33m(\u001b[0m\u001b[0mtest\u001b[0m\u001b[1;33m)\u001b[0m\u001b[1;33m\u001b[0m\u001b[1;33m\u001b[0m\u001b[0m\n",
      "\u001b[1;31mValueError\u001b[0m: Workspace is not set"
     ]
    }
   ],
   "source": [
    "test = arcpy.da.Walk()\n",
    "print(test)"
   ]
  },
  {
   "cell_type": "code",
   "execution_count": 16,
   "metadata": {},
   "outputs": [
    {
     "data": {
      "text/plain": [
       "{'token': '6849qFpRa24r6Kd_yV-SuAguZ65jxuEBBI-yifbCB3ll5jEcAkAzhplrXhAvZHIVkFaHl2RPMxYGKnLQgOGwV7i9f4CZOwDzAHKpKIn9l2iU5jkB2VRh5wTltr1iSa4J8YhyeJW2h6w7TgF33sS-uva0qx3n8LTL6n-Lm50B-2kcvA3fdfgka4DQ-CpbeKYoL6yNIq3km-0KafYoIHPuV41Y1uPA0A0DUhZRrccZDK8.',\n",
       " 'referer': 'http://www.esri.com/AGO/322923C3-A5AE-4E81-8B13-142E2F99CDE4',\n",
       " 'expires': 1638172880}"
      ]
     },
     "execution_count": 16,
     "metadata": {},
     "output_type": "execute_result"
    }
   ],
   "source": [
    "# Sign in to portal\n",
    "arcpy.SignInToPortal(\"https://www.arcgis.com\", \"zuluzi\", \"Jem987dzem!\")"
   ]
  },
  {
   "cell_type": "code",
   "execution_count": 45,
   "metadata": {},
   "outputs": [
    {
     "name": "stdout",
     "output_type": "stream",
     "text": [
      "C:\\Users\\Asus\\OneDrive - Stowarzyszenie IAESTE Polska\\Studia\\GINinzynierka\\GINinz\n"
     ]
    }
   ],
   "source": [
    "os.chdir(r'C:\\Users\\Asus\\OneDrive - Stowarzyszenie IAESTE Polska\\Studia\\GINinzynierka\\GINinz')\n",
    "print(os.getcwd())"
   ]
  },
  {
   "cell_type": "code",
   "execution_count": 3,
   "metadata": {},
   "outputs": [],
   "source": [
    "# Set output file names\n",
    "outdir = SHAREdir\n",
    "service_name = \"WaterQualityIndexes\"\n",
    "sddraft_filename = service_name + \".sddraft\"\n",
    "sddraft_output_filename = os.path.join(outdir, sddraft_filename)\n",
    "sd_filename = service_name + \".sd\"\n",
    "sd_output_filename = os.path.join(outdir, sd_filename)\n",
    "\n",
    "# Reference map to publish\n",
    "arcGISproProj = r\"C:\\Users\\Asus\\OneDrive - Stowarzyszenie IAESTE Polska\\Studia\\GINinzynierka\\GINinz\\GINinz_ArcGISPro_project\\GINinz_ArcGISPro_project.aprx\"\n",
    "aprx = arcpy.mp.ArcGISProject(arcGISproProj)\n",
    "m = aprx.listMaps('Map')[0]\n",
    "\n",
    "# Create TileSharingDraft and set metadata and portal folder properties\n",
    "server_type = \"HOSTING_SERVER\"\n",
    "sddraft = m.getWebLayerSharingDraft(server_type, \"TILE\", service_name)\n",
    "sddraft.credits = \"\"\n",
    "sddraft.description = \"Layers containg rasters with CDOM, Chl a, Cya, DOC and Turbidity values.\"\n",
    "sddraft.summary = \"This is summary\"\n",
    "sddraft.tags = \"Water Quality, Sentinel-2, CDOM, Chl a, Cya, DOC, Turbidity\"\n",
    "sddraft.useLimitations = \"For internal use only\"\n",
    "sddraft.portalFolder = \"GINinz_prod\"\n",
    "sddraft.overwriteExistingService = True"
   ]
  },
  {
   "cell_type": "code",
   "execution_count": 4,
   "metadata": {},
   "outputs": [
    {
     "name": "stdout",
     "output_type": "stream",
     "text": [
      "Start Staging\n",
      "Finish Staging\n"
     ]
    }
   ],
   "source": [
    "# Create Service Definition Draft file\n",
    "sddraft.exportToSDDraft(sddraft_output_filename)\n",
    "\n",
    "# Stage Service\n",
    "print(\"Start Staging\")\n",
    "arcpy.StageService_server(sddraft_output_filename, sd_output_filename)\n",
    "print(\"Finish Staging\")\n"
   ]
  },
  {
   "cell_type": "code",
   "execution_count": 5,
   "metadata": {},
   "outputs": [
    {
     "name": "stdout",
     "output_type": "stream",
     "text": [
      "Start Uploading\n",
      "Finish Publishing\n"
     ]
    }
   ],
   "source": [
    "# Share to portal\n",
    "#server_type = \"HOSTING_SERVER\"\n",
    "#sd_output_filename = r\"C:\\Users\\Asus\\OneDrive - Stowarzyszenie IAESTE Polska\\Studia\\GINinzynierka\\GINinz\\share\\test_v5.sd\"\n",
    "print(\"Start Uploading\")\n",
    "arcpy.UploadServiceDefinition_server(sd_output_filename, server_type)\n",
    "\n",
    "print(\"Finish Publishing\")"
   ]
  },
  {
   "cell_type": "code",
   "execution_count": 6,
   "metadata": {},
   "outputs": [
    {
     "name": "stdout",
     "output_type": "stream",
     "text": [
      "Created Tiles\n"
     ]
    }
   ],
   "source": [
    "# Creates and updates tiles in an existing web tile layer cache. \n",
    "input_service = r'https://tiles.arcgis.com/tiles/MzCtPDSne0rpIt7V/arcgis/rest/services/' + service_name + r'/MapServer'\n",
    "arcpy.ManageMapServerCacheTiles_server(input_service, [500000], \"RECREATE_ALL_TILES\")\n",
    "print(\"Created Tiles\")"
   ]
  },
  {
   "cell_type": "code",
   "execution_count": null,
   "metadata": {},
   "outputs": [],
   "source": [
    "print(input_service)"
   ]
  },
  {
   "cell_type": "code",
   "execution_count": null,
   "metadata": {},
   "outputs": [],
   "source": [
    "main_service = r'https://tiles.arcgis.com/tiles/MzCtPDSne0rpIt7V/arcgis/rest/services/test_overwrite/MapServer'\n",
    "input_service = r'https://tiles.arcgis.com/tiles/MzCtPDSne0rpIt7V/arcgis/rest/services/' + service_name + r'/MapServer'\n",
    "archive_serviceName = r'testOverwrite_archive'\n",
    "\n",
    "arcpy.ReplaceWebLayer_server(main_service, archive_serviceName, input_service)\n"
   ]
  },
  {
   "cell_type": "code",
   "execution_count": null,
   "metadata": {},
   "outputs": [],
   "source": [
    "gis = GIS(username=\"zuluzi\", password=\"Jem987dzem!\")"
   ]
  },
  {
   "cell_type": "code",
   "execution_count": null,
   "metadata": {},
   "outputs": [],
   "source": [
    "my_content = gis.content.search(query=\"\")\n",
    "\n",
    "my_content"
   ]
  },
  {
   "cell_type": "code",
   "execution_count": null,
   "metadata": {},
   "outputs": [],
   "source": [
    "input_raster_path = r\"C:\\Users\\Asus\\Documents\\CDOM_S2A_MSIL2A_20211024T095101_N0301_R079_T33UYR_20211024T122307.tif\"\n",
    "single_image_layer = copy_raster(input_raster=input_raster_path,\n",
    "                                 output_name=\"output_imagery_layer\",\n",
    "                                 gis=gis)"
   ]
  },
  {
   "cell_type": "code",
   "execution_count": null,
   "metadata": {},
   "outputs": [],
   "source": [
    "results = os.listdir(RESULTSdir)\n",
    "print(RESULTSdir + '\\\\' + results[0])"
   ]
  },
  {
   "cell_type": "code",
   "execution_count": null,
   "metadata": {},
   "outputs": [],
   "source": [
    "os.environ['PATH'] = r';C:\\Program Files\\PostgreSQL\\14\\bin'\n",
    "os.environ['PGHOST'] = 'localhost'\n",
    "os.environ['PGPORT'] = '5432'\n",
    "os.environ['PGUSER'] = 'postgres'\n",
    "os.environ['PGPASSWORD'] = 'postgres'\n",
    "os.environ['PGDATABASE'] = 'WQ'\n",
    "\n",
    "results = os.listdir(RESULTSdir)\n",
    "\n",
    "conn = psycopg2.connect(database=\"WQ\", user=\"postgres\", host=\"localhost\", password=\"postgres\")\n",
    "cursor = conn.cursor()\n",
    "cmds = 'raster2pgsql -t 100x100 \"' + RESULTSdir + '\\\\' + results[0] + '\" cdomrast.cdom1 |psql'\n",
    "\n",
    "sql = \"INSERT INTO rasters.cdom VALUES (st_raster(\" + RESULTSdir + '\\\\' + results[0] + \",'compression=LZW'));\"\n",
    "\n",
    "subprocess.call(sql, shell=True)\n",
    "\n",
    "conn.close()"
   ]
  },
  {
   "cell_type": "code",
   "execution_count": null,
   "metadata": {},
   "outputs": [],
   "source": [
    "conn.close()"
   ]
  },
  {
   "cell_type": "code",
   "execution_count": null,
   "metadata": {
    "collapsed": false,
    "jupyter": {
     "outputs_hidden": false
    },
    "pycharm": {
     "name": "#%%\n"
    }
   },
   "outputs": [],
   "source": [
    "if not products.empty:\n",
    "    for product in products.iterrows():\n",
    "        bands = bands2A(product)\n",
    "for band in bands.keys():\n",
    "    print(f'{band}: {bands[band]}')\n",
    "for product in products.iterrows():\n",
    "    for v1 in product[1].keys():\n",
    "        print(f'{v1}: {product[1][v1]}')"
   ]
  },
  {
   "cell_type": "code",
   "execution_count": null,
   "metadata": {
    "collapsed": false,
    "jupyter": {
     "outputs_hidden": false
    },
    "pycharm": {
     "name": "#%%\n"
    }
   },
   "outputs": [],
   "source": [
    "try1 = geojson_to_wkt(read_geojson('malopolska.geojson'))"
   ]
  },
  {
   "cell_type": "code",
   "execution_count": null,
   "metadata": {
    "collapsed": false,
    "jupyter": {
     "outputs_hidden": false
    },
    "pycharm": {
     "name": "#%%\n"
    }
   },
   "outputs": [],
   "source": [
    "    srcB03 = rasterio.open(bands['b02_10m'])\n",
    "    kwargs = srcB03.meta\n",
    "    print(type(kwargs))\n",
    "    print(kwargs['crs'])"
   ]
  },
  {
   "cell_type": "code",
   "execution_count": null,
   "metadata": {
    "collapsed": false,
    "jupyter": {
     "outputs_hidden": false
    },
    "pycharm": {
     "name": "#%%\n"
    }
   },
   "outputs": [],
   "source": [
    "#B04 = rasterio.open(bands['b04_10m']).read(1).astype('f4')\n",
    "#print(B04.shape[1])\n",
    "#i = 0\n",
    "#if B04[B04 <= 0] <= 0:\n",
    "#    i = i+1\n",
    "#print(i)\n"
   ]
  },
  {
   "cell_type": "code",
   "execution_count": null,
   "metadata": {
    "collapsed": false,
    "jupyter": {
     "outputs_hidden": false
    },
    "pycharm": {
     "name": "#%% processing\n"
    }
   },
   "outputs": [],
   "source": [
    "for product in products.iterrows():\n",
    "    prodBands = bands2A(product)\n",
    "    CDOM(product[1]['title'], prodBands['B03'],prodBands['B04'])"
   ]
  },
  {
   "cell_type": "code",
   "execution_count": null,
   "metadata": {
    "collapsed": false,
    "jupyter": {
     "outputs_hidden": false
    },
    "pycharm": {
     "name": "#%%\n"
    }
   },
   "outputs": [],
   "source": [
    "src = rasterio.open(RESULTSdir+r\"\\test123.tif\")\n",
    "kwargs = src.meta\n",
    "print(kwargs)\n",
    "srcB03 = rasterio.open(prodBands['B03'])\n",
    "kwargs = srcB03.meta\n",
    "print(kwargs)"
   ]
  },
  {
   "cell_type": "code",
   "execution_count": null,
   "metadata": {
    "collapsed": false,
    "jupyter": {
     "outputs_hidden": false
    },
    "pycharm": {
     "name": "#%% processing\n"
    }
   },
   "outputs": [],
   "source": [
    "os.chdir(DATAdir) # get into data folder\n",
    "for product in products_df.iterrows():\n",
    "    try:\n",
    "        prodBands = bandsDir(product)\n",
    "        rgb = RGB(prodBands['REDdir'],prodBands['BLUEdir'],prodBands['GREENdir'])\n",
    "        plt.imshow(rgb, cmap='RdYlGn')\n",
    "        plt.colorbar()\n",
    "        plt.title('RGB')\n",
    "        plt.xlabel('Column #')\n",
    "        plt.ylabel('Row #')\n",
    "        os.chdir(DATAdir) # back to data folder\n",
    "    except NameError:\n",
    "        print('Error occurred while processing {0}'.format(product[1]['filename']))\n",
    "os.chdir(HOMEdir) # back to main directory"
   ]
  },
  {
   "cell_type": "code",
   "execution_count": null,
   "metadata": {
    "collapsed": false,
    "jupyter": {
     "outputs_hidden": false
    },
    "pycharm": {
     "name": "#%% Plot a low-resolution overview\n"
    }
   },
   "outputs": [],
   "source": [
    "# The grid of raster values can be accessed as a numpy array and plotted:\n",
    "with rasterio.open(prodBands['REDdir']) as src:\n",
    "    print(type(src.read()[0][0][0]))\n",
    "    print(src.read()[0][0][0])\n",
    "    oviews = src.overviews(1) # list of overviews from biggest to smallest\n",
    "    print(oviews)\n",
    "    oview = oviews[-1] # let's look at the smallest thumbnail\n",
    "    print(oview)\n",
    "    print('Decimation factor= {}'.format(oview))\n",
    "    # NOTE this is using a 'decimated read' (http://rasterio.readthedocs.io/en/latest/topics/resampling.html)\n",
    "    thumbnail = src.read(1, out_shape=(1, int(src.height // oview), int(src.width // oview)))\n",
    "\n",
    "print('array type: ',type(thumbnail))\n",
    "print(thumbnail)\n",
    "\n",
    "plt.imshow(thumbnail)\n",
    "plt.colorbar()\n",
    "plt.title('Overview - Band 4 {}'.format(thumbnail.shape))\n",
    "plt.xlabel('Column #')\n",
    "plt.ylabel('Row #')"
   ]
  },
  {
   "cell_type": "code",
   "execution_count": null,
   "metadata": {
    "collapsed": false,
    "jupyter": {
     "outputs_hidden": false
    },
    "pycharm": {
     "name": "#%% HERE IS THE END OF OFFICIAL PART\n"
    }
   },
   "outputs": [],
   "source": [
    "\n",
    "\n"
   ]
  },
  {
   "cell_type": "code",
   "execution_count": null,
   "metadata": {
    "collapsed": false,
    "jupyter": {
     "outputs_hidden": false
    },
    "pycharm": {
     "name": "#%% useless for now but shows sorting options\n"
    }
   },
   "outputs": [],
   "source": [
    "products_df_sorted = products_df.sort_values(['cloudcoverpercentage', 'ingestiondate'], ascending=[True, True])\n",
    "products_df_sorted = products_df_sorted.head(1)\n",
    "#print(products_df_sorted.uuid[0])\n",
    "api.get_product_odata(products_df_sorted.uuid[0], full=True)\n",
    "#api.download(products_df_sorted.uuid[0])"
   ]
  },
  {
   "cell_type": "code",
   "execution_count": null,
   "metadata": {
    "collapsed": false,
    "jupyter": {
     "outputs_hidden": false
    },
    "pycharm": {
     "name": "#%% unzipping all the .zip files\n"
    }
   },
   "outputs": [],
   "source": [
    "odata = api.get_product_odata(products_df_sorted.uuid[0], full=True)\n",
    "with zipfile.ZipFile(odata['title']+'.zip',\"r\") as zip_ref:\n",
    "    zip_ref.extractall()"
   ]
  },
  {
   "cell_type": "code",
   "execution_count": null,
   "metadata": {
    "collapsed": false,
    "jupyter": {
     "outputs_hidden": false
    },
    "pycharm": {
     "name": "#%%\n"
    }
   },
   "outputs": [],
   "source": [
    "#odata = api.get_product_odata(products_df_sorted.uuid[0], full=True)\n",
    "#print(odata)\n",
    "odata = api.get_product_odata(products_df_sorted.uuid[0], full=True)\n",
    "print(odata['title'])\n",
    "for row in products_df_sorted.head(1):\n",
    "    print(row)\n",
    "\n",
    "print(products_df_sorted.head(1).title)\n",
    "#print(products_df_sorted.head(1))"
   ]
  },
  {
   "cell_type": "code",
   "execution_count": null,
   "metadata": {
    "collapsed": false,
    "jupyter": {
     "outputs_hidden": false
    },
    "pycharm": {
     "name": "#%%\n"
    }
   },
   "outputs": [],
   "source": [
    "for product in products_df.iterrows():\n",
    "        prodBands = bandsDir(product)\n",
    "        print(prodBands)"
   ]
  }
 ],
 "metadata": {
  "kernelspec": {
   "display_name": "Python 3",
   "language": "python",
   "name": "python3"
  },
  "language_info": {
   "codemirror_mode": {
    "name": "ipython",
    "version": 3
   },
   "file_extension": ".py",
   "mimetype": "text/x-python",
   "name": "python",
   "nbconvert_exporter": "python",
   "pygments_lexer": "ipython3",
   "version": "3.7.11"
  }
 },
 "nbformat": 4,
 "nbformat_minor": 4
}
