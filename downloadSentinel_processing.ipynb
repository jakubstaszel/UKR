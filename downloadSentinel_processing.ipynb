{
 "cells": [
  {
   "cell_type": "markdown",
   "metadata": {
    "tags": []
   },
   "source": [
    "## Libraries + configuration"
   ]
  },
  {
   "cell_type": "code",
   "execution_count": 1,
   "metadata": {
    "collapsed": false,
    "jupyter": {
     "outputs_hidden": false
    },
    "pycharm": {
     "name": "#%% needed libraries\n"
    }
   },
   "outputs": [],
   "source": [
    "import sys\n",
    "\n",
    "from sentinelsat import SentinelAPI, read_geojson, geojson_to_wkt\n",
    "import datetime as dt\n",
    "import zipfile\n",
    "import os\n",
    "from os.path import exists\n",
    "\n",
    "#from osgeo import gdal\n",
    "import rasterio\n",
    "from rasterio.warp import calculate_default_transform, reproject, Resampling\n",
    "from rasterio.merge import merge\n",
    "import rasterio.mask\n",
    "from rasterio.features import bounds\n",
    "from rasterio.enums import Resampling\n",
    "import matplotlib\n",
    "import matplotlib.pyplot as plt\n",
    "import numpy as np\n",
    "import fiona\n",
    "\n",
    "import json\n"
   ]
  },
  {
   "cell_type": "code",
   "execution_count": 2,
   "metadata": {
    "collapsed": false,
    "jupyter": {
     "outputs_hidden": false
    },
    "pycharm": {
     "name": "#%% global variables\n"
    }
   },
   "outputs": [],
   "source": [
    "# dates to search for new Sentinel images \n",
    "# e.g. '20211025' 'rrrrMMdd'\n",
    "startDate = '20220401' # included \n",
    "endDate = '20220405' # not included\n",
    "\n",
    "# you need to specify if the data will be actual or historical \n",
    "# so the indexes do not merge together\n",
    "oblast = 'kk'\n",
    "indexes = {oblast + 'EVIhist':[],oblast + 'NDVIhist':[],oblast + 'VCIhist':[],oblast + 'WDRVIhist':[]}\n",
    "# indexes = {oblast + 'EVI':[],oblast + 'NDVI':[],oblast + 'VCI':[],oblast + 'WDRVI':[]}\n",
    "\n",
    "HOMEdir = os.getcwd()\n",
    "DATAdir = HOMEdir + r'\\data'\n",
    "RESULTSdir = HOMEdir + r'\\results'\n",
    "SHAREdir = HOMEdir + r'\\share'\n",
    "REPROJdir = HOMEdir + r'\\reproject'"
   ]
  },
  {
   "cell_type": "code",
   "execution_count": 3,
   "metadata": {},
   "outputs": [],
   "source": [
    "cloudCover = (0,30)"
   ]
  },
  {
   "cell_type": "markdown",
   "metadata": {
    "jp-MarkdownHeadingCollapsed": true,
    "tags": []
   },
   "source": [
    "## Download / reproject / mask functions"
   ]
  },
  {
   "cell_type": "code",
   "execution_count": 4,
   "metadata": {},
   "outputs": [],
   "source": [
    "# code changed for dev environment in dataCheck2A\n",
    "def dataCheck2A():\n",
    "    \"\"\"\n",
    "    Calls Sentinel API to find new 2A products.\n",
    "    Reguires lastRefresh.txt file in HOMEdir.\n",
    "    Return dataframe with products found.\n",
    "    \"\"\"\n",
    "    os.chdir(HOMEdir)\n",
    "\n",
    "    api = SentinelAPI('zuluzi','kom987ik','https://scihub.copernicus.eu/dhus')\n",
    "    footprint = geojson_to_wkt(read_geojson(HOMEdir + '\\\\geojsonExtents\\\\' + oblast + '.geojson'))\n",
    "    products = api.query(footprint,\n",
    "# searching from last refresh date (saved in file) till now\n",
    "                         #date=(dt.datetime.strptime(open('lastRefresh.txt','r').read(), '%Y-%m-%d %H:%M:%S.%f'), dt.datetime.now()),\n",
    "                         date=(startDate, endDate),\n",
    "                         platformname='Sentinel-2',\n",
    "                         processinglevel = 'Level-2A',\n",
    "                         cloudcoverpercentage=cloudCover)\n",
    "\n",
    "    products_df = api.to_dataframe(products)\n",
    "\n",
    "    if products_df.empty:\n",
    "        print('No new products found')\n",
    "# update the datetime of last refresh\n",
    "        fileRefresh = open('lastRefresh.txt','w')\n",
    "        fileRefresh.write(str(dt.datetime.now()))\n",
    "        fileRefresh.close()\n",
    "    else:\n",
    "        print('Products found: ')\n",
    "        for product in products_df.iterrows():\n",
    "            print('Found: ', product[1]['filename'])\n",
    "\n",
    "    return products_df\n",
    "\n",
    "def dataDownload2A(products_df):\n",
    "    \"\"\"\n",
    "    Downloads and unzips products found.\n",
    "    Reguires data returned from dataCheck() function and lastRefresh.txt file in HOMEdir.\n",
    "    Returns nothing.\n",
    "    \"\"\"\n",
    "\n",
    "    os.chdir(DATAdir)\n",
    "    api = SentinelAPI('zuluzi','kom987ik','https://scihub.copernicus.eu/dhus')\n",
    "\n",
    "    for product in products_df.iterrows():\n",
    "    #product = products_df\n",
    "        print('Now downloading: ', product[1]['filename']) # filename of the product\n",
    "        api.download(product[1]['uuid']) # download the product using uuid\n",
    "        odata = api.get_product_odata(product[1]['uuid'], full=True)\n",
    "        with zipfile.ZipFile(odata['title']+'.zip',\"r\") as zip_ref:\n",
    "            zip_ref.extractall()\n",
    "            print(\"Zipped file extracted to\", product[1]['filename'], \"folder\")\n",
    "\n",
    "    os.chdir(HOMEdir)\n",
    "def bands2A(product):\n",
    "    \"\"\"\n",
    "    Gets directories to different bands of the 2A product.\n",
    "    Returns dictionary with directories to the bands.\n",
    "    \"\"\"\n",
    "# getting into exact imagery folder\n",
    "    os.chdir(DATAdir + '/' + product)\n",
    "\n",
    "# finding directories for needed bands (only used implemented)\n",
    "    bands = {'b02_10m':None, \n",
    "             'b03_10m':None, \n",
    "             'b04_10m':None, \n",
    "             'b08_10m':None,\n",
    "             'b11_20m':None,\n",
    "             'b12_20m':None,\n",
    "             'b01_60m':None, \n",
    "             'b03_60m':None}\n",
    "\n",
    "    print('Getting bands directories for', product)\n",
    "    for root,dirs,files in os.walk(os.getcwd()):\n",
    "        for file in files:\n",
    "# finding different bands and resolution\n",
    "            if file.endswith(\"_B04_10m.jp2\"):\n",
    "                bands['b04_10m'] = os.path.join(root, file)\n",
    "            if file.endswith(\"_B03_10m.jp2\"):\n",
    "                bands['b03_10m'] = os.path.join(root, file)\n",
    "            if file.endswith(\"_B02_10m.jp2\"):\n",
    "                bands['b02_10m'] = os.path.join(root, file)\n",
    "            if file.endswith(\"_B08_10m.jp2\"):\n",
    "                bands['b08_10m'] = os.path.join(root, file)\n",
    "            if file.endswith(\"_B11_20m.jp2\"):\n",
    "                bands['b11_20m'] = os.path.join(root, file)\n",
    "            if file.endswith(\"_B12_20m.jp2\"):\n",
    "                bands['b12_20m'] = os.path.join(root, file)\n",
    "            if file.endswith(\"_B01_60m.jp2\"):\n",
    "                bands['b01_60m'] = os.path.join(root, file)\n",
    "            if file.endswith(\"_B03_60m.jp2\"):\n",
    "                bands['b03_60m'] = os.path.join(root, file)\n",
    "    os.chdir(HOMEdir)\n",
    "    return bands\n",
    "def showBand(bandDir, color_map='gray'):\n",
    "    \"\"\"\n",
    "    Creates a chart with raster values.\n",
    "    Requires directory for a saved raster file and optionally a color map.\n",
    "    \"\"\"\n",
    "    fig = plt.figure(figsize=(8, 8))\n",
    "    band = rasterio.open(bandDir).read(1).astype('f4')\n",
    "    image_layer = plt.imshow(band)\n",
    "    image_layer.set_cmap(color_map)\n",
    "    plt.colorbar()\n",
    "    plt.show()\n",
    "def epsg3857(product, directory, delete = False):\n",
    "    \"\"\"\n",
    "    Requires name of the .tif file and the directory.\n",
    "    Saves reprojected to EPSG 3857 (Web Mercator) .tif file in REPROJdir.\n",
    "    Can delete provided product in the specified directory after reprojection.\n",
    "    \"\"\"\n",
    "    product = product.split('.tif')[0]\n",
    "    # print('Reprojecting: ' + product)\n",
    "    dst_crs = 'EPSG:3857'\n",
    "    with rasterio.open(directory + '\\\\' + product + '.tif') as src:\n",
    "        transform, width, height = calculate_default_transform(\n",
    "            src.crs, dst_crs, src.width, src.height, *src.bounds)\n",
    "        kwargs = src.meta.copy()\n",
    "        kwargs.update({\n",
    "            'crs': dst_crs,\n",
    "            'transform': transform,\n",
    "            'width': width,\n",
    "            'height': height\n",
    "        })\n",
    "\n",
    "        with rasterio.open(REPROJdir + '\\\\' + product + '_reprojected.tif' , 'w', **kwargs) as dst:\n",
    "            for i in range(1, src.count + 1):\n",
    "                reproject(\n",
    "                    source=rasterio.band(src, i),\n",
    "                    destination=rasterio.band(dst, i),\n",
    "                    src_transform=src.transform,\n",
    "                    src_crs=src.crs,\n",
    "                    dst_transform=transform,\n",
    "                    dst_crs=dst_crs,\n",
    "                    resampling=Resampling.nearest)\n",
    "    if delete == True:\n",
    "        if os.path.exists(directory + '\\\\' + product + '.tif'):\n",
    "            os.remove(directory + '\\\\' + product + '.tif')\n",
    "            # print('    Deleted: ' + product + '.tif')\n",
    "def mergeWQindexes(toBeMerged, delete = False):\n",
    "    \"\"\"\n",
    "    Requires a list of rasterio.open() objects.\n",
    "    \"\"\"\n",
    "    for index in toBeMerged:\n",
    "        src = toBeMerged[index][0]\n",
    "        rasters = []\n",
    "        print('Merging : ' + index)\n",
    "        rasters.extend(toBeMerged[index])\n",
    "        if exists(SHAREdir + '\\\\' + index + '_merged.tif'):\n",
    "            previousMerge = rasterio.open(SHAREdir + '\\\\' + index + '_merged.tif')\n",
    "            rasters.append(previousMerge)\n",
    "        mosaic, out_trans = merge(rasters)\n",
    "        \n",
    "        kwargs = src.meta.copy()\n",
    "        kwargs.update(\n",
    "            driver='GTiff',\n",
    "            height= mosaic.shape[1],\n",
    "            width=mosaic.shape[2],\n",
    "            transform=out_trans,\n",
    "            dtype=rasterio.float32,\n",
    "            count=1,\n",
    "            compress='lzw')\n",
    "        with rasterio.open(SHAREdir+'\\\\'+index+'_merged.tif', 'w', **kwargs) as dest:\n",
    "            dest.write(mosaic)\n",
    "    \n",
    "    src.close()\n",
    "    if 'previousMerge' in locals():\n",
    "        previousMerge.close()\n",
    "        \n",
    "    for key in toBeMerged:\n",
    "        for product in toBeMerged[key]:\n",
    "            product.close()\n",
    "    \n",
    "def updateStructure(product, band, lastRefresh):\n",
    "    \"\"\"\n",
    "    \"\"\"\n",
    "    os.chdir(HOMEdir)\n",
    "    with open('structure.json', 'r') as json_file:\n",
    "        structure = json.load(json_file)\n",
    "    structure['lastRefresh'] = str(lastRefresh)\n",
    "    newRast = rasterio.open(band)\n",
    "    bboxFound = False\n",
    "    i = 1\n",
    "    for raster in structure['rasters']:\n",
    "        if bboxFound == False:\n",
    "            if raster['crs'] == str(newRast.crs) and raster['bbox'] == str(newRast.bounds):\n",
    "                structure['rasters'][i-1]['product'] = product\n",
    "                bboxFound = True\n",
    "            i = i + 1\n",
    "        else:\n",
    "            break\n",
    "    if bboxFound == False:\n",
    "        structure['rasters'].append({'id':i, 'product': product, 'crs': str(newRast.crs), 'bbox': str(newRast.bounds)})\n",
    "    \n",
    "    with open('structure.json', 'w') as json_out:\n",
    "        json.dump(structure, json_out)\n",
    "\n",
    "    with open(HOMEdir + '\\\\structureArchive\\\\structure_' + str(dt.datetime.today().strftime('%Y%m%d')) + '.json', 'w') as json_out:\n",
    "        json.dump(structure, json_out)\n",
    "def masking(product, directory, maskingShp):\n",
    "    \"\"\"\n",
    "    Mask product with a shapefile\n",
    "    \"\"\"\n",
    "    print('Masking: ' + product)\n",
    "    with fiona.open(maskingShp, \"r\") as shapefile:\n",
    "        shapes = [feature[\"geometry\"] for feature in shapefile]\n",
    "    \n",
    "    with rasterio.open(directory + '\\\\' + product) as src:\n",
    "        out_image, out_transform = rasterio.mask.mask(src, shapes, crop=True, nodata=np.nan, all_touched=True)\n",
    "        out_meta = src.meta\n",
    "    \n",
    "    out_meta.update({\"driver\": \"GTiff\",\n",
    "                 \"height\": out_image.shape[1],\n",
    "                 \"width\": out_image.shape[2],\n",
    "                 \"transform\": out_transform})\n",
    "\n",
    "    with rasterio.open(directory + '\\\\' + product.split('.tif')[0] + '_masked.tif', \"w\", **out_meta) as dest:\n",
    "        dest.write(out_image)"
   ]
  },
  {
   "cell_type": "markdown",
   "metadata": {
    "jp-MarkdownHeadingCollapsed": true,
    "tags": []
   },
   "source": [
    "## Water quality indexes"
   ]
  },
  {
   "cell_type": "code",
   "execution_count": 19,
   "metadata": {
    "collapsed": false,
    "jupyter": {
     "outputs_hidden": false
    },
    "pycharm": {
     "name": "#%% definition of functions\n"
    }
   },
   "outputs": [],
   "source": [
    "def cdom(product, B03, B04):\n",
    "    \"\"\"\n",
    "    Calculates CDOM index.\n",
    "    Requires the title of the product, b03 and b04 bands.\n",
    "    Saves the CDOM index in results directiory.\n",
    "    \"\"\"\n",
    "    print('    Calculating CDOM for', product)\n",
    "# opening one of bands in separated to retrieve metadata to later save the raster\n",
    "    srcB03 = rasterio.open(B03)\n",
    "    B03 = srcB03.read().astype('f4')\n",
    "    B04 = rasterio.open(B04).read().astype('f4')\n",
    "\n",
    "    B03[B03 <= 0] = np.nan\n",
    "    B04[B04 <= 0] = np.nan\n",
    "\n",
    "    cdom = 537 * np.exp(-2.93*B03/B04)\n",
    "\n",
    "    cdom[cdom <= 0] = np.nan\n",
    "\n",
    "    dst_crs = 'EPSG:3857'\n",
    "    transform, wid, hei = calculate_default_transform(srcB03.crs, dst_crs, srcB03.width, srcB03.height, *srcB03.bounds)\n",
    "    kwargs = srcB03.meta.copy()\n",
    "    kwargs.update(\n",
    "        driver='GTiff',\n",
    "        dtype=rasterio.float32,\n",
    "        count=1,\n",
    "        compress='lzw')\n",
    "\n",
    "    os.chdir(RESULTSdir)\n",
    "    with rasterio.open('CDOM_' + product + '.tif', 'w', **kwargs) as dst:\n",
    "        dst.write(cdom.astype(rasterio.float32))\n",
    "\n",
    "    os.chdir(HOMEdir)\n",
    "def turbidity(product, B03, B01):\n",
    "    \"\"\"\n",
    "    Calculates turbidity.\n",
    "    Requires the title of the product, b03 and b04 bands.\n",
    "    Saves the turbidity raster in results directiory.\n",
    "    \"\"\"\n",
    "    print('    Calculating turbidity for', product)\n",
    "# opening one of bands in separated to retrieve metadata to later save the raster\n",
    "    srcB03 = rasterio.open(B03)\n",
    "    B03 = srcB03.read().astype('f4')\n",
    "    B01 = rasterio.open(B01).read().astype('f4')\n",
    "\n",
    "    B03[B03 <= 0] = np.nan\n",
    "    B01[B01 <= 0] = np.nan\n",
    "\n",
    "    turb = 8.93 * (B03/B01) - 6.39\n",
    "\n",
    "    #turb[turb <= 0] = np.nan\n",
    "\n",
    "    kwargs = srcB03.meta.copy()\n",
    "    kwargs.update(\n",
    "        driver='GTiff',\n",
    "        dtype=rasterio.float32,\n",
    "        count=1,\n",
    "        compress='lzw')\n",
    "\n",
    "    os.chdir(RESULTSdir)\n",
    "    with rasterio.open('turbidity_' + product + '.tif', 'w', **kwargs) as dst:\n",
    "        dst.write(turb.astype(rasterio.float32))\n",
    "    os.chdir(HOMEdir)\n",
    "def doc(product, B03, B04):\n",
    "    \"\"\"\n",
    "    Dissolved Organic Carbon\n",
    "\n",
    "    \"\"\"\n",
    "    print('    Calculating DOC for', product)\n",
    "# opening one of bands in separated to retrieve metadata to later save the raster\n",
    "    srcB03 = rasterio.open(B03)\n",
    "    B03 = srcB03.read().astype('f4')\n",
    "    B04 = rasterio.open(B04).read().astype('f4')\n",
    "\n",
    "    B03[B03 <= 0] = np.nan\n",
    "    B04[B04 <= 0] = np.nan\n",
    "\n",
    "    doc = 432 * np.exp(-2.24*B03/B04)\n",
    "\n",
    "    doc[doc <= 0] = np.nan\n",
    "\n",
    "    kwargs = srcB03.meta.copy()\n",
    "    kwargs.update(\n",
    "        driver='GTiff',\n",
    "        dtype=rasterio.float32,\n",
    "        count=1,\n",
    "        compress='lzw')\n",
    "\n",
    "    os.chdir(RESULTSdir)\n",
    "    with rasterio.open('DOC_' + product + '.tif', 'w', **kwargs) as dst:\n",
    "        dst.write(doc.astype(rasterio.float32))\n",
    "    os.chdir(HOMEdir)\n",
    "def chl_a(product, B03, B01):\n",
    "    \"\"\"\n",
    "    Concentration of Chlorophyll a\n",
    "    \"\"\"\n",
    "    print('    Calculating Chl a for', product)\n",
    "# opening one of bands in separated to retrieve metadata to later save the raster\n",
    "    srcB03 = rasterio.open(B03)\n",
    "    B03 = srcB03.read().astype('f4')\n",
    "    B01 = rasterio.open(B01).read().astype('f4')\n",
    "\n",
    "    B03[B03 <= 0] = np.nan\n",
    "    B01[B01 <= 0] = np.nan\n",
    "\n",
    "    chla = 4.26 * np.float_power(B03/B01, 3.94)\n",
    "\n",
    "    chla[chla <= 0] = np.nan\n",
    "\n",
    "    kwargs = srcB03.meta.copy()\n",
    "    kwargs.update(\n",
    "        driver='GTiff',\n",
    "        dtype=rasterio.float32,\n",
    "        count=1,\n",
    "        compress='lzw')\n",
    "\n",
    "    os.chdir(RESULTSdir)\n",
    "    with rasterio.open('chla_' + product + '.tif', 'w', **kwargs) as dst:\n",
    "        dst.write(chla.astype(rasterio.float32))\n",
    "    os.chdir(HOMEdir)\n",
    "def cya(product, B03, B04, B02):\n",
    "    \"\"\"\n",
    "    Density of Cyanobacteria\n",
    "    \"\"\"\n",
    "    print('    Calculating Cya for', product)\n",
    "# opening one of bands in separated to retrieve metadata to later save the raster\n",
    "    srcB03 = rasterio.open(B03)\n",
    "    B03 = srcB03.read().astype('f4')\n",
    "    B04 = rasterio.open(B04).read().astype('f4')\n",
    "    B02 = rasterio.open(B02).read().astype('f4')\n",
    "\n",
    "    B03[B03 <= 0] = np.nan\n",
    "    B04[B04 <= 0] = np.nan\n",
    "    B02[B02 <= 0] = np.nan\n",
    "\n",
    "    cyaTemp = 115530.31 * np.float_power(B03*B04/B02, 2.38)\n",
    "    cya = np.divide(cyaTemp,10**12)\n",
    "    \n",
    "    cya[cya <= 0] = np.nan\n",
    "\n",
    "    kwargs = srcB03.meta.copy()\n",
    "    kwargs.update(\n",
    "        driver='GTiff',\n",
    "        dtype=rasterio.float32,\n",
    "        count=1,\n",
    "        compress='lzw')\n",
    "\n",
    "    os.chdir(RESULTSdir)\n",
    "    with rasterio.open('cya_' + product + '.tif', 'w', **kwargs) as dst:\n",
    "        dst.write(cya.astype(rasterio.float32))\n",
    "    os.chdir(HOMEdir)    "
   ]
  },
  {
   "cell_type": "markdown",
   "metadata": {
    "jp-MarkdownHeadingCollapsed": true,
    "tags": []
   },
   "source": [
    "## Drought indexes functions"
   ]
  },
  {
   "cell_type": "code",
   "execution_count": 20,
   "metadata": {},
   "outputs": [],
   "source": [
    "def vci(product, B04, B08, histNDVI):\n",
    "    \"\"\"\n",
    "    Calculates VCI index.\n",
    "    Requires the title of the product, b04 and b08 bands with resolution 10m.\n",
    "    Saves the VCI index in results directiory.\n",
    "    \"\"\"\n",
    "    print('    Calculating VCI for', product)\n",
    "# opening one of bands in separated to retrieve metadata to later save the raster\n",
    "    srcB04 = rasterio.open(B04)\n",
    "    B04 = srcB04.read().astype('f4')\n",
    "    B08 = rasterio.open(B08).read().astype('f4')\n",
    "\n",
    "    B04[B04 <= 0] = np.nan\n",
    "    B08[B08 <= 0] = np.nan\n",
    "    \n",
    "# ndvi matrix is required for calculating vci \n",
    "    try:\n",
    "        ndvi = rasterio.open(histNDVI).read().astype('f4')\n",
    "        ndviMax = np.nanmax(ndvi)\n",
    "        ndviMin = np.nanmin(ndvi)\n",
    "    except:\n",
    "        print(\"VCI needs calculated historical NDVI\")\n",
    "    \n",
    "    ndvi = np.divide((B08 - B04), (B08 + B04))\n",
    "    vci = np.divide((ndvi - ndviMin), (ndviMax - ndviMin)) * 100\n",
    "\n",
    "    vci[vci < 0] = np.nan\n",
    "    vci[vci > 100] = np.nan\n",
    "\n",
    "    dst_crs = 'EPSG:3857'\n",
    "    transform, wid, hei = calculate_default_transform(srcB04.crs, dst_crs, srcB04.width, srcB04.height, *srcB04.bounds)\n",
    "    kwargs = srcB04.meta.copy()\n",
    "    kwargs.update(\n",
    "        driver='GTiff',\n",
    "        dtype=rasterio.float32,\n",
    "        count=1,\n",
    "        compress='lzw')\n",
    "\n",
    "    os.chdir(RESULTSdir)\n",
    "    with rasterio.open('VCI_' + product + '.tif', 'w', **kwargs) as dst:\n",
    "        dst.write(vci.astype(rasterio.float32))\n",
    "\n",
    "    os.chdir(HOMEdir)\n",
    "    \n",
    "### --------------------------------------------------------------------------------------------------------------------------------------------\n",
    "def ndwi(product, B03, B08):\n",
    "    \"\"\"\n",
    "    Calculates NDWI index.\n",
    "    Requires the title of the product, b03 and b08 bands with resolution 10m.\n",
    "    Saves the NDWI index in results directiory.\n",
    "    \"\"\"\n",
    "    print('    Calculating NDWI for', product)\n",
    "# opening one of bands in separated to retrieve metadata to later save the raster\n",
    "    srcB03 = rasterio.open(B03)\n",
    "    B03 = srcB03.read().astype('f4')\n",
    "    B08 = rasterio.open(B08).read().astype('f4')\n",
    "\n",
    "    B03[B03 <= 0] = np.nan\n",
    "    B08[B08 <= 0] = np.nan\n",
    "    \n",
    "    ndwi = np.divide((B03 - B08),(B03 + B08))\n",
    "\n",
    "    ndwi[ndwi < -1] = np.nan\n",
    "    ndwi[ndwi > 1] = np.nan\n",
    "\n",
    "    dst_crs = 'EPSG:3857'\n",
    "    transform, wid, hei = calculate_default_transform(srcB03.crs, dst_crs, srcB03.width, srcB03.height, *srcB03.bounds)\n",
    "    kwargs = srcB03.meta.copy()\n",
    "    kwargs.update(\n",
    "        driver='GTiff',\n",
    "        dtype=rasterio.float32,\n",
    "        count=1,\n",
    "        compress='lzw')\n",
    "\n",
    "    os.chdir(RESULTSdir)\n",
    "    with rasterio.open('NDWI_' + product + '.tif', 'w', **kwargs) as dst:\n",
    "        dst.write(ndwi.astype(rasterio.float32))\n",
    "\n",
    "    os.chdir(HOMEdir)\n",
    "### --------------------------------------------------------------------------------------------------------------------------------------------\n",
    "def nmdi(product, B08, B11, B12):\n",
    "    \"\"\"\n",
    "    Calculates NMDI index.\n",
    "    Requires the title of the product, b08, b11 and b12 bands with resolution 20m.\n",
    "    Saves the NMDI index in results directiory.\n",
    "    \"\"\"\n",
    "    print('    Calculating NMDI for', product)\n",
    "# opening one of bands in separated to retrieve metadata to later save the raster\n",
    "    srcB11 = rasterio.open(B11) \n",
    "    B11 = srcB11.read().astype('f4')\n",
    "    B12 = rasterio.open(B12).read().astype('f4')\n",
    "    \n",
    "# band 8 is not available in 20m, using 10m and resampling\n",
    "    upscale_factor = 1/2\n",
    "    with rasterio.open(B08) as B08init:\n",
    "        # resample data to target shape\n",
    "        B08 = B08init.read(\n",
    "            out_shape=(\n",
    "                B08init.count,\n",
    "                int(B08init.height * upscale_factor),\n",
    "                int(B08init.width * upscale_factor)\n",
    "            ),\n",
    "            resampling=Resampling.bilinear\n",
    "        ).astype('f4')\n",
    "\n",
    "    B08[B08 <= 0] = np.nan\n",
    "    B11[B11 <= 0] = np.nan\n",
    "    B12[B12 <= 0] = np.nan\n",
    "    \n",
    "    B11B12 = B11 - B12\n",
    "    \n",
    "    nmdi = np.divide(B08 - B11B12, B08 + B11B12)\n",
    "\n",
    "#normalized, values from 0 to 1 are the only reasonable\n",
    "    nmdi[nmdi < 0] = np.nan\n",
    "    nmdi[nmdi > 1] = np.nan\n",
    "\n",
    "    dst_crs = 'EPSG:3857'\n",
    "    transform, wid, hei = calculate_default_transform(srcB11.crs, dst_crs, srcB11.width, srcB11.height, *srcB11.bounds)\n",
    "    kwargs = srcB11.meta.copy()\n",
    "    kwargs.update(\n",
    "        driver='GTiff',\n",
    "        dtype=rasterio.float32,\n",
    "        count=1,\n",
    "        compress='lzw')\n",
    "\n",
    "    os.chdir(RESULTSdir)\n",
    "    with rasterio.open('NMDI_' + product + '.tif', 'w', **kwargs) as dst:\n",
    "        dst.write(nmdi.astype(rasterio.float32))\n",
    "\n",
    "    os.chdir(HOMEdir)\n",
    "### --------------------------------------------------------------------------------------------------------------------------------------------\n",
    "def ndmi(product, B08, B11):\n",
    "    \"\"\"\n",
    "    Calculates NDMI index.\n",
    "    Requires the title of the product, b08 and b11 bands with resolution 20m.\n",
    "    Saves the NDMI index in results directiory.\n",
    "    \"\"\"\n",
    "    print('    Calculating NDMI for', product)\n",
    "# opening one of bands in separated to retrieve metadata to later save the raster\n",
    "    srcB11 = rasterio.open(B11) \n",
    "    B11 = srcB11.read().astype('f4')\n",
    "    \n",
    "# band 8 is not available in 20m, using 10m and resampling\n",
    "    upscale_factor = 1/2\n",
    "    with rasterio.open(B08) as B08init:\n",
    "        # resample data to target shape\n",
    "        B08 = B08init.read(\n",
    "            out_shape=(\n",
    "                B08init.count,\n",
    "                int(B08init.height * upscale_factor),\n",
    "                int(B08init.width * upscale_factor)\n",
    "            ),\n",
    "            resampling=Resampling.bilinear\n",
    "        ).astype('f4')\n",
    "\n",
    "    B08[B08 <= 0] = np.nan\n",
    "    B11[B11 <= 0] = np.nan\n",
    "    \n",
    "    ndmi = np.divide((B08 - B11), (B08 + B11))\n",
    "\n",
    "    ndmi[ndmi < 0] = np.nan\n",
    "    ndmi[ndmi > 1] = np.nan\n",
    "\n",
    "    dst_crs = 'EPSG:3857'\n",
    "    transform, wid, hei = calculate_default_transform(srcB11.crs, dst_crs, srcB11.width, srcB11.height, *srcB11.bounds)\n",
    "    kwargs = srcB11.meta.copy()\n",
    "    kwargs.update(\n",
    "        driver='GTiff',\n",
    "        dtype=rasterio.float32,\n",
    "        count=1,\n",
    "        compress='lzw')\n",
    "\n",
    "    os.chdir(RESULTSdir)\n",
    "    with rasterio.open('NDMI_' + product + '.tif', 'w', **kwargs) as dst:\n",
    "        dst.write(ndmi.astype(rasterio.float32))\n",
    "\n",
    "    os.chdir(HOMEdir)\n",
    "### --------------------------------------------------------------------------------------------------------------------------------------------\n",
    "def ndvi(product, B04, B08):\n",
    "    \"\"\"\n",
    "    Calculates NDVI index.\n",
    "    Requires the title of the product, b04 and b08 bands with resolution 20m.\n",
    "    Saves the NDMI index in results directiory.\n",
    "    \"\"\"\n",
    "    print('    Calculating NDVI for', product)\n",
    "# opening one of bands in separated to retrieve metadata to later save the raster\n",
    "    srcB04 = rasterio.open(B04) \n",
    "    B04 = srcB04.read().astype('f4')\n",
    "    B08 = rasterio.open(B08).read().astype('f4')\n",
    "\n",
    "    B08[B08 <= 0] = np.nan\n",
    "    B04[B04 <= 0] = np.nan\n",
    "    \n",
    "    ndvi = np.divide((B08 - B04), (B08 + B04))\n",
    "\n",
    "    ndvi[ndvi < -1] = np.nan\n",
    "    ndvi[ndvi > 1] = np.nan\n",
    "\n",
    "    dst_crs = 'EPSG:3857'\n",
    "    transform, wid, hei = calculate_default_transform(srcB04.crs, dst_crs, srcB04.width, srcB04.height, *srcB04.bounds)\n",
    "    kwargs = srcB04.meta.copy()\n",
    "    kwargs.update(\n",
    "        driver='GTiff',\n",
    "        dtype=rasterio.float32,\n",
    "        count=1,\n",
    "        compress='lzw')\n",
    "\n",
    "    os.chdir(RESULTSdir)\n",
    "    with rasterio.open('NDVI_' + product + '.tif', 'w', **kwargs) as dst:\n",
    "        dst.write(ndvi.astype(rasterio.float32))\n",
    "\n",
    "    os.chdir(HOMEdir)\n",
    "### --------------------------------------------------------------------------------------------------------------------------------------------\n",
    "def wdrvi(product, B04, B08):\n",
    "    \"\"\"\n",
    "    Calculates WDRVI index.\n",
    "    Requires the title of the product, b04 and b08 bands with resolution 20m.\n",
    "    Saves the WDRVI index in results directiory.\n",
    "    \"\"\"\n",
    "    print('    Calculating WDRVI for', product)\n",
    "# opening one of bands in separated to retrieve metadata to later save the raster\n",
    "    srcB04 = rasterio.open(B04) \n",
    "    B04 = srcB04.read().astype('f4')\n",
    "    B08 = rasterio.open(B08).read().astype('f4')\n",
    "\n",
    "    B08[B08 <= 0] = np.nan\n",
    "    B04[B04 <= 0] = np.nan\n",
    "    \n",
    "    wdrvi = np.divide(((0.1*B08) - B04), ((0.1*B08) + B04))\n",
    "\n",
    "    #wdrvi[ndvi < -1] = np.nan\n",
    "    #wdrvi[ndvi > 1] = np.nan\n",
    "\n",
    "    dst_crs = 'EPSG:3857'\n",
    "    transform, wid, hei = calculate_default_transform(srcB04.crs, dst_crs, srcB04.width, srcB04.height, *srcB04.bounds)\n",
    "    kwargs = srcB04.meta.copy()\n",
    "    kwargs.update(\n",
    "        driver='GTiff',\n",
    "        dtype=rasterio.float32,\n",
    "        count=1,\n",
    "        compress='lzw')\n",
    "\n",
    "    os.chdir(RESULTSdir)\n",
    "    with rasterio.open('WDRVI_' + product + '.tif', 'w', **kwargs) as dst:\n",
    "        dst.write(wdrvi.astype(rasterio.float32))\n",
    "\n",
    "    os.chdir(HOMEdir)\n",
    "### --------------------------------------------------------------------------------------------------------------------------------------------\n",
    "def evi(product, B02, B04, B08):\n",
    "    \"\"\"\n",
    "    Calculates EVI index.\n",
    "    Requires the title of the product, b04 and b08 bands with resolution 10m.\n",
    "    Saves the EVI index in results directiory.\n",
    "    \"\"\"\n",
    "    print('    Calculating EVI for', product)\n",
    "# opening one of bands in separated to retrieve metadata to later save the raster\n",
    "    srcB04 = rasterio.open(B04)\n",
    "    B04 = srcB04.read().astype('f4')\n",
    "    B08 = rasterio.open(B08).read().astype('f4')\n",
    "    B02 = rasterio.open(B02).read().astype('f4')\n",
    "\n",
    "    B04[B04 <= 0] = np.nan\n",
    "    B08[B08 <= 0] = np.nan\n",
    "    B02[B02 <= 0] = np.nan\n",
    "    \n",
    "    evi = np.divide((B08 - B04), (B08 + 6*B04 - 7.5*B02 +1)) * 2.5\n",
    "\n",
    "    # evi[evi < 0] = np.nan\n",
    "    # evi[evi > 100] = np.nan\n",
    "\n",
    "    dst_crs = 'EPSG:3857'\n",
    "    transform, wid, hei = calculate_default_transform(srcB04.crs, dst_crs, srcB04.width, srcB04.height, *srcB04.bounds)\n",
    "    kwargs = srcB04.meta.copy()\n",
    "    kwargs.update(\n",
    "        driver='GTiff',\n",
    "        dtype=rasterio.float32,\n",
    "        count=1,\n",
    "        compress='lzw')\n",
    "\n",
    "    os.chdir(RESULTSdir)\n",
    "    with rasterio.open('EVI_' + product + '.tif', 'w', **kwargs) as dst:\n",
    "        dst.write(evi.astype(rasterio.float32))\n",
    "\n",
    "    os.chdir(HOMEdir)"
   ]
  },
  {
   "cell_type": "markdown",
   "metadata": {
    "tags": []
   },
   "source": [
    "## Execution"
   ]
  },
  {
   "cell_type": "code",
   "execution_count": 5,
   "metadata": {
    "collapsed": false,
    "jupyter": {
     "outputs_hidden": false
    },
    "pycharm": {
     "name": "#%% step 1 - call API\n"
    }
   },
   "outputs": [
    {
     "name": "stdout",
     "output_type": "stream",
     "text": [
      "Products found: \n",
      "Found:  S2A_MSIL2A_20220404T084601_N0400_R107_T36UXB_20220404T125037.SAFE\n",
      "Found:  S2A_MSIL2A_20220404T084601_N0400_R107_T36UYB_20220404T125037.SAFE\n"
     ]
    }
   ],
   "source": [
    "products = dataCheck2A()"
   ]
  },
  {
   "cell_type": "code",
   "execution_count": 9,
   "metadata": {
    "collapsed": false,
    "jupyter": {
     "outputs_hidden": false
    },
    "pycharm": {
     "name": "#%% step 2 - download by API\n"
    }
   },
   "outputs": [
    {
     "name": "stdout",
     "output_type": "stream",
     "text": [
      "Now downloading:  S2A_MSIL2A_20220404T084601_N0400_R107_T36UXB_20220404T125037.SAFE\n",
      "Zipped file extracted to S2A_MSIL2A_20220404T084601_N0400_R107_T36UXB_20220404T125037.SAFE folder\n",
      "Now downloading:  S2A_MSIL2A_20220404T084601_N0400_R107_T36UYB_20220404T125037.SAFE\n"
     ]
    },
    {
     "data": {
      "application/vnd.jupyter.widget-view+json": {
       "model_id": "e873af081586436b8205d15381105bd5",
       "version_major": 2,
       "version_minor": 0
      },
      "text/plain": [
       "Downloading S2A_MSIL2A_20220404T084601_N0400_R107_T36UYB_20220404T125037.zip:   0%|          | 0.00/381M [00:0…"
      ]
     },
     "metadata": {},
     "output_type": "display_data"
    },
    {
     "data": {
      "application/vnd.jupyter.widget-view+json": {
       "model_id": "",
       "version_major": 2,
       "version_minor": 0
      },
      "text/plain": [
       "MD5 checksumming:   0%|          | 0.00/381M [00:00<?, ?B/s]"
      ]
     },
     "metadata": {},
     "output_type": "display_data"
    },
    {
     "name": "stdout",
     "output_type": "stream",
     "text": [
      "Zipped file extracted to S2A_MSIL2A_20220404T084601_N0400_R107_T36UYB_20220404T125037.SAFE folder\n"
     ]
    }
   ],
   "source": [
    "lastRefresh = dt.datetime.now()\n",
    "if not products.empty:\n",
    "    #for product in products.iterrows():\n",
    "    dataDownload2A(products)\n",
    "fileRefresh = open('lastRefresh.txt','w')\n",
    "fileRefresh.write(str(lastRefresh))\n",
    "fileRefresh.close()"
   ]
  },
  {
   "cell_type": "code",
   "execution_count": 24,
   "metadata": {
    "collapsed": false,
    "jupyter": {
     "outputs_hidden": false
    },
    "pycharm": {
     "name": "#%% step 3 - process rasters\n"
    }
   },
   "outputs": [
    {
     "name": "stdout",
     "output_type": "stream",
     "text": [
      "Getting bands directories for S2B_MSIL1C_20210411T083559_N0300_R064_T36UYA_20210411T104817.SAFE\n",
      "None\n",
      "Getting bands directories for S2B_MSIL1C_20210411T083559_N0300_R064_T36UYV_20210411T104817.SAFE\n",
      "None\n"
     ]
    }
   ],
   "source": [
    "# detecting if we are calculating hist data \n",
    "# then working on every product folder in DATAdir\n",
    "if list(indexes.keys())[0].endswith(\"hist\"):\n",
    "    for file in os.listdir(DATAdir):\n",
    "        if not file.endswith(\".zip\"):\n",
    "            bands = bands2A(file)\n",
    "# working on products from Open Access Hub\n",
    "else:\n",
    "    if not products.empty:\n",
    "        for product in products.iterrows():\n",
    "            bands = bands2A(product[1]['filename'])\n",
    "            #showBand(bands['b02_10m'],'viridis')        \n",
    "    # drought indexes\n",
    "            vci(product[1]['title'], bands['b04_10m'], bands['b08_10m'], SHAREdir + '\\\\' + oblast + 'NDVIhist_merged_masked.tif')\n",
    "            ndvi(product[1]['title'], bands['b04_10m'], bands['b08_10m'])\n",
    "            evi(product[1]['title'], bands['b02_10m'], bands['b04_10m'], bands['b08_10m'])\n",
    "            wdrvi(product[1]['title'], bands['b04_10m'], bands['b08_10m'])\n",
    "\n",
    "            updateStructure(product[1]['title'], bands['b03_10m'], lastRefresh)\n",
    "\n",
    "print('Reprojecting indexes in RESULTSdir to EPSG:3857 and saving to REPROJdir')\n",
    "print('    Also removing files in RESULTSdir')\n",
    "for file in os.listdir(RESULTSdir):\n",
    "    if file.endswith('.tif'):\n",
    "        epsg3857(file, RESULTSdir, True)\n",
    "\n",
    "        \n",
    "# from this part, indexes variable is needed to specify which indexes should be continued\n",
    "\n",
    "# indexes = {'VCI':[], 'NDWI':[], 'NMDI':[]}\n",
    "# indexes = {'NDMI':[], 'NDVI':[]}\n",
    "\n",
    "for file in os.listdir(REPROJdir):\n",
    "    if file.endswith('.tif'):\n",
    "        param = file.split('_')[0]\n",
    "        src = rasterio.open(REPROJdir + '\\\\' + file)\n",
    "        indexes[param].append(src)\n",
    "mergeWQindexes(indexes, True)\n",
    "\n",
    "# this is required to close all open files before deleting files in REPROJdir\n",
    "src.close()\n",
    "for key in indexes:\n",
    "    for product in indexes[key]:\n",
    "        product.close()\n",
    "\n",
    "print('Removing files from REPROJdir')\n",
    "for filename in os.listdir(REPROJdir):\n",
    "    if os.path.exists(REPROJdir + '\\\\' + filename):\n",
    "        os.remove(REPROJdir + '\\\\' + filename)\n",
    "        print('    Deleted: ' + filename)\n",
    "\n",
    "for file in os.listdir(SHAREdir):\n",
    "    if file.endswith('_merged.tif'):\n",
    "        maskingShp = HOMEdir + \"\\\\oblastExtent\\\\\" + oblast + \".shp\"\n",
    "        masking(file, SHAREdir, maskingShp)"
   ]
  },
  {
   "cell_type": "markdown",
   "metadata": {
    "tags": []
   },
   "source": [
    "## Playground"
   ]
  },
  {
   "cell_type": "code",
   "execution_count": 8,
   "metadata": {},
   "outputs": [
    {
     "name": "stdout",
     "output_type": "stream",
     "text": [
      "Getting bands directories for S2A_MSIL2A_20220317T024551_N0400_R132_T49MCM_20220317T065540.SAFE\n",
      "Getting bands directories for S2A_MSIL2A_20220317T024551_N0400_R132_T49MCN_20220317T065540.SAFE\n"
     ]
    }
   ],
   "source": [
    "lastRefresh = dt.datetime.now()\n",
    "if not products.empty:\n",
    "    for product in products.iterrows():\n",
    "        bands = bands2A(product)\n",
    "        #updateStructure(product[1]['title'], bands['b03_10m'], lastRefresh)"
   ]
  },
  {
   "cell_type": "code",
   "execution_count": 24,
   "metadata": {},
   "outputs": [
    {
     "name": "stdout",
     "output_type": "stream",
     "text": [
      "0.89109117\n",
      "[[[36.92381  36.867992 36.587517 ... 36.69629  37.46336  36.831482]\n",
      "  [35.992954 36.826145 37.351723 ... 37.529636 37.774456 36.437176]\n",
      "  [35.46355  36.002636 37.3544   ... 35.60391  35.71861  35.890633]\n",
      "  ...\n",
      "  [40.02536  40.19489  40.51413  ... 57.798416 57.009876 55.562454]\n",
      "  [39.74128  39.270016 39.36764  ... 60.53394  56.88607  50.559055]\n",
      "  [38.383327 37.99328  38.425194 ... 65.97236  60.439278 50.62949 ]]]\n"
     ]
    }
   ],
   "source": [
    "    srcB04 = rasterio.open(bands['b04_10m'])\n",
    "    B04 = srcB04.read().astype('f4')\n",
    "    B08 = rasterio.open(bands['b08_10m']).read().astype('f4')\n",
    "\n",
    "    B04[B04 <= 0] = np.nan\n",
    "    B08[B08 <= 0] = np.nan\n",
    "    \n",
    "# ndvi matrix is required for calculating vci \n",
    "    ndvi = np.divide((B08 - B04), (B08 + B04))\n",
    "    print(ndvi)\n",
    "    ndviMax = np.nanmax(ndvi)\n",
    "    print(ndviMax)\n",
    "    ndviMin = np.nanmin(ndvi)\n",
    "    \n",
    "    vci = np.divide((ndvi - ndviMin), (ndviMax - ndviMin)) * 100\n",
    "    print(vci)\n",
    "\n",
    "    dst_crs = 'EPSG:3857'\n",
    "    transform, wid, hei = calculate_default_transform(srcB04.crs, dst_crs, srcB04.width, srcB04.height, *srcB04.bounds)\n",
    "    kwargs = srcB04.meta.copy()\n",
    "    kwargs.update(\n",
    "        driver='GTiff',\n",
    "        dtype=rasterio.float32,\n",
    "        count=1,\n",
    "        compress='lzw')\n",
    "\n",
    "    os.chdir(RESULTSdir)\n",
    "    with rasterio.open('VCI_' + '.tif', 'w', **kwargs) as dst:\n",
    "        dst.write(vci.astype(rasterio.float32))\n",
    "\n",
    "    os.chdir(HOMEdir)"
   ]
  },
  {
   "cell_type": "code",
   "execution_count": 23,
   "metadata": {},
   "outputs": [
    {
     "name": "stdout",
     "output_type": "stream",
     "text": [
      "0.89109117\n",
      "[0. 1. 2. 3. 4.]\n",
      "[ 0.  1. nan  3.  4.]\n",
      "nan\n",
      "4.0\n",
      "4.0\n"
     ]
    }
   ],
   "source": [
    "ndviMax = np.nanmax(ndvi)\n",
    "print(ndviMax)\n",
    "\n",
    "b = np.arange(5, dtype=float)\n",
    "print(b)\n",
    "b[2] = np.NaN\n",
    "print(b)\n",
    "print(np.amax(b))\n",
    "print(np.amax(b, where=~np.isnan(b), initial=-1))\n",
    "print(np.nanmax(b))"
   ]
  },
  {
   "cell_type": "code",
   "execution_count": 8,
   "metadata": {},
   "outputs": [
    {
     "name": "stdout",
     "output_type": "stream",
     "text": [
      "Masking: NDWI_merged.tif\n",
      "Masking: NMDI_merged.tif\n",
      "Masking: VCI_merged.tif\n"
     ]
    }
   ],
   "source": [
    "for file in os.listdir(SHAREdir):\n",
    "    if file.endswith('_merged.tif'):\n",
    "        if file.endswith('NDWI_merged.tif') or file.endswith('VCI_merged.tif') or file.endswith('NMDI_merged.tif'):\n",
    "            maskingShp = HOMEdir + \"\\\\droughtExtent\\\\DiengPlateau.shp\"\n",
    "            masking(file, SHAREdir, maskingShp)"
   ]
  },
  {
   "cell_type": "code",
   "execution_count": 18,
   "metadata": {},
   "outputs": [
    {
     "name": "stdout",
     "output_type": "stream",
     "text": [
      "Reprojecting: CDOM_S2A_MSIL2A_20211024T095101_N0301_R079_T33UYR_20211024T122307\n",
      "File CDOM_S2A_MSIL2A_20211024T095101_N0301_R079_T33UYR_20211024T122307.tif was deleted\n",
      "Reprojecting: CDOM_S2A_MSIL2A_20211024T095101_N0301_R079_T34UCA_20211024T122307\n",
      "File CDOM_S2A_MSIL2A_20211024T095101_N0301_R079_T34UCA_20211024T122307.tif was deleted\n",
      "Reprojecting: CDOM_S2A_MSIL2A_20211024T095101_N0301_R079_T34UCV_20211024T122307\n",
      "File CDOM_S2A_MSIL2A_20211024T095101_N0301_R079_T34UCV_20211024T122307.tif was deleted\n",
      "Reprojecting: CDOM_S2A_MSIL2A_20211024T095101_N0301_R079_T34UDA_20211024T122307\n",
      "File CDOM_S2A_MSIL2A_20211024T095101_N0301_R079_T34UDA_20211024T122307.tif was deleted\n",
      "Reprojecting: CDOM_S2A_MSIL2A_20211024T095101_N0301_R079_T34UDV_20211024T122307\n",
      "File CDOM_S2A_MSIL2A_20211024T095101_N0301_R079_T34UDV_20211024T122307.tif was deleted\n",
      "Reprojecting: CDOM_S2B_MSIL2A_20211023T093039_N0301_R136_T34UEV_20211023T115253\n",
      "File CDOM_S2B_MSIL2A_20211023T093039_N0301_R136_T34UEV_20211023T115253.tif was deleted\n",
      "Reprojecting: chla_S2A_MSIL2A_20211024T095101_N0301_R079_T33UYR_20211024T122307\n",
      "File chla_S2A_MSIL2A_20211024T095101_N0301_R079_T33UYR_20211024T122307.tif was deleted\n",
      "Reprojecting: chla_S2A_MSIL2A_20211024T095101_N0301_R079_T34UCA_20211024T122307\n",
      "File chla_S2A_MSIL2A_20211024T095101_N0301_R079_T34UCA_20211024T122307.tif was deleted\n",
      "Reprojecting: chla_S2A_MSIL2A_20211024T095101_N0301_R079_T34UCV_20211024T122307\n",
      "File chla_S2A_MSIL2A_20211024T095101_N0301_R079_T34UCV_20211024T122307.tif was deleted\n",
      "Reprojecting: chla_S2A_MSIL2A_20211024T095101_N0301_R079_T34UDA_20211024T122307\n",
      "File chla_S2A_MSIL2A_20211024T095101_N0301_R079_T34UDA_20211024T122307.tif was deleted\n",
      "Reprojecting: chla_S2A_MSIL2A_20211024T095101_N0301_R079_T34UDV_20211024T122307\n",
      "File chla_S2A_MSIL2A_20211024T095101_N0301_R079_T34UDV_20211024T122307.tif was deleted\n",
      "Reprojecting: chla_S2B_MSIL2A_20211023T093039_N0301_R136_T34UEV_20211023T115253\n",
      "File chla_S2B_MSIL2A_20211023T093039_N0301_R136_T34UEV_20211023T115253.tif was deleted\n",
      "Reprojecting: cya_S2A_MSIL2A_20211024T095101_N0301_R079_T33UYR_20211024T122307\n",
      "File cya_S2A_MSIL2A_20211024T095101_N0301_R079_T33UYR_20211024T122307.tif was deleted\n",
      "Reprojecting: cya_S2A_MSIL2A_20211024T095101_N0301_R079_T34UCA_20211024T122307\n",
      "File cya_S2A_MSIL2A_20211024T095101_N0301_R079_T34UCA_20211024T122307.tif was deleted\n",
      "Reprojecting: cya_S2A_MSIL2A_20211024T095101_N0301_R079_T34UCV_20211024T122307\n",
      "File cya_S2A_MSIL2A_20211024T095101_N0301_R079_T34UCV_20211024T122307.tif was deleted\n",
      "Reprojecting: cya_S2A_MSIL2A_20211024T095101_N0301_R079_T34UDA_20211024T122307\n",
      "File cya_S2A_MSIL2A_20211024T095101_N0301_R079_T34UDA_20211024T122307.tif was deleted\n",
      "Reprojecting: cya_S2A_MSIL2A_20211024T095101_N0301_R079_T34UDV_20211024T122307\n",
      "File cya_S2A_MSIL2A_20211024T095101_N0301_R079_T34UDV_20211024T122307.tif was deleted\n",
      "Reprojecting: cya_S2B_MSIL2A_20211023T093039_N0301_R136_T34UEV_20211023T115253\n",
      "File cya_S2B_MSIL2A_20211023T093039_N0301_R136_T34UEV_20211023T115253.tif was deleted\n",
      "Reprojecting: DOC_S2A_MSIL2A_20211024T095101_N0301_R079_T33UYR_20211024T122307\n",
      "File DOC_S2A_MSIL2A_20211024T095101_N0301_R079_T33UYR_20211024T122307.tif was deleted\n",
      "Reprojecting: DOC_S2A_MSIL2A_20211024T095101_N0301_R079_T34UCA_20211024T122307\n",
      "File DOC_S2A_MSIL2A_20211024T095101_N0301_R079_T34UCA_20211024T122307.tif was deleted\n",
      "Reprojecting: DOC_S2A_MSIL2A_20211024T095101_N0301_R079_T34UCV_20211024T122307\n",
      "File DOC_S2A_MSIL2A_20211024T095101_N0301_R079_T34UCV_20211024T122307.tif was deleted\n",
      "Reprojecting: DOC_S2A_MSIL2A_20211024T095101_N0301_R079_T34UDA_20211024T122307\n",
      "File DOC_S2A_MSIL2A_20211024T095101_N0301_R079_T34UDA_20211024T122307.tif was deleted\n",
      "Reprojecting: DOC_S2A_MSIL2A_20211024T095101_N0301_R079_T34UDV_20211024T122307\n",
      "File DOC_S2A_MSIL2A_20211024T095101_N0301_R079_T34UDV_20211024T122307.tif was deleted\n",
      "Reprojecting: DOC_S2B_MSIL2A_20211023T093039_N0301_R136_T34UEV_20211023T115253\n",
      "File DOC_S2B_MSIL2A_20211023T093039_N0301_R136_T34UEV_20211023T115253.tif was deleted\n",
      "Reprojecting: turbidity_S2A_MSIL2A_20211024T095101_N0301_R079_T33UYR_20211024T122307\n",
      "File turbidity_S2A_MSIL2A_20211024T095101_N0301_R079_T33UYR_20211024T122307.tif was deleted\n",
      "Reprojecting: turbidity_S2A_MSIL2A_20211024T095101_N0301_R079_T34UCA_20211024T122307\n",
      "File turbidity_S2A_MSIL2A_20211024T095101_N0301_R079_T34UCA_20211024T122307.tif was deleted\n",
      "Reprojecting: turbidity_S2A_MSIL2A_20211024T095101_N0301_R079_T34UCV_20211024T122307\n",
      "File turbidity_S2A_MSIL2A_20211024T095101_N0301_R079_T34UCV_20211024T122307.tif was deleted\n",
      "Reprojecting: turbidity_S2A_MSIL2A_20211024T095101_N0301_R079_T34UDA_20211024T122307\n",
      "File turbidity_S2A_MSIL2A_20211024T095101_N0301_R079_T34UDA_20211024T122307.tif was deleted\n",
      "Reprojecting: turbidity_S2A_MSIL2A_20211024T095101_N0301_R079_T34UDV_20211024T122307\n",
      "File turbidity_S2A_MSIL2A_20211024T095101_N0301_R079_T34UDV_20211024T122307.tif was deleted\n",
      "Reprojecting: turbidity_S2B_MSIL2A_20211023T093039_N0301_R136_T34UEV_20211023T115253\n",
      "File turbidity_S2B_MSIL2A_20211023T093039_N0301_R136_T34UEV_20211023T115253.tif was deleted\n"
     ]
    }
   ],
   "source": [
    "for file in os.listdir(RESULTSdir):\n",
    "    if file.endswith('.tif'):\n",
    "        epsg3857(file, RESULTSdir, True)"
   ]
  },
  {
   "cell_type": "code",
   "execution_count": 4,
   "metadata": {},
   "outputs": [
    {
     "name": "stdout",
     "output_type": "stream",
     "text": [
      "Merging : CDOM\n",
      "Merging : chla\n",
      "Merging : cya\n",
      "Merging : DOC\n",
      "Merging : turbidity\n"
     ]
    }
   ],
   "source": [
    "indexes = {'CDOM':[],'chla':[],'cya':[],'DOC':[],'turbidity':[]}\n",
    "\n",
    "for file in os.listdir(REPROJdir):\n",
    "    if file.endswith('.tif'):\n",
    "        param = file.split('_')[0]\n",
    "        src = rasterio.open(REPROJdir + '\\\\' + file)\n",
    "        indexes[param].append(src)\n",
    "mergeWQindexes(indexes, True)\n",
    "\n",
    "# this is required to close all open files before deleting files in REPROJdir\n",
    "src.close()\n",
    "for key in indexes:\n",
    "    for product in indexes[key]:\n",
    "        product.close()\n",
    "        \n",
    "for filename in os.listdir(REPROJdir):\n",
    "    if os.path.exists(REPROJdir + '\\\\' + filename):\n",
    "        os.remove(REPROJdir + '\\\\' + filename)\n",
    "        print('    Deleted: ' + filename)"
   ]
  },
  {
   "cell_type": "code",
   "execution_count": 6,
   "metadata": {},
   "outputs": [],
   "source": [
    "for file in os.listdir(SHAREdir):\n",
    "    if file.endswith('_merged.tif'):\n",
    "        masking(file, SHAREdir)"
   ]
  },
  {
   "cell_type": "code",
   "execution_count": 15,
   "metadata": {},
   "outputs": [
    {
     "name": "stdout",
     "output_type": "stream",
     "text": [
      "Getting bands directories for S2A_MSIL2A_20220317T024551_N0400_R132_T49MCM_20220317T065540.SAFE\n"
     ]
    },
    {
     "ename": "TypeError",
     "evalue": "'numpy.ndarray' object is not callable",
     "output_type": "error",
     "traceback": [
      "\u001b[1;31m---------------------------------------------------------------------------\u001b[0m",
      "\u001b[1;31mTypeError\u001b[0m                                 Traceback (most recent call last)",
      "\u001b[1;32m<ipython-input-15-cdf256eb2d05>\u001b[0m in \u001b[0;36m<module>\u001b[1;34m\u001b[0m\n\u001b[0;32m      3\u001b[0m         \u001b[0mbands\u001b[0m \u001b[1;33m=\u001b[0m \u001b[0mbands2A\u001b[0m\u001b[1;33m(\u001b[0m\u001b[0mproduct\u001b[0m\u001b[1;33m)\u001b[0m\u001b[1;33m\u001b[0m\u001b[1;33m\u001b[0m\u001b[0m\n\u001b[0;32m      4\u001b[0m         \u001b[1;31m#showBand(bands['b02_10m'],'viridis')\u001b[0m\u001b[1;33m\u001b[0m\u001b[1;33m\u001b[0m\u001b[1;33m\u001b[0m\u001b[0m\n\u001b[1;32m----> 5\u001b[1;33m         \u001b[0mvci\u001b[0m\u001b[1;33m(\u001b[0m\u001b[0mproduct\u001b[0m\u001b[1;33m[\u001b[0m\u001b[1;36m1\u001b[0m\u001b[1;33m]\u001b[0m\u001b[1;33m[\u001b[0m\u001b[1;34m'title'\u001b[0m\u001b[1;33m]\u001b[0m\u001b[1;33m,\u001b[0m \u001b[0mbands\u001b[0m\u001b[1;33m[\u001b[0m\u001b[1;34m'b04_10m'\u001b[0m\u001b[1;33m]\u001b[0m\u001b[1;33m,\u001b[0m \u001b[0mbands\u001b[0m\u001b[1;33m[\u001b[0m\u001b[1;34m'b08_10m'\u001b[0m\u001b[1;33m]\u001b[0m\u001b[1;33m)\u001b[0m\u001b[1;33m\u001b[0m\u001b[1;33m\u001b[0m\u001b[0m\n\u001b[0m\u001b[0;32m      6\u001b[0m         \u001b[1;31m# ndwi(product[1]['title'], bands['b03_10m'], bands['b08_10m'])\u001b[0m\u001b[1;33m\u001b[0m\u001b[1;33m\u001b[0m\u001b[1;33m\u001b[0m\u001b[0m\n\u001b[0;32m      7\u001b[0m         \u001b[1;31m# nmdi(product[1]['title'], bands['b08_10m'], bands['b11_20m'], bands['b12_20m'])\u001b[0m\u001b[1;33m\u001b[0m\u001b[1;33m\u001b[0m\u001b[1;33m\u001b[0m\u001b[0m\n",
      "\u001b[1;31mTypeError\u001b[0m: 'numpy.ndarray' object is not callable"
     ]
    }
   ],
   "source": [
    "if not products.empty:\n",
    "    for product in products.iterrows():\n",
    "        bands = bands2A(product)\n",
    "        #showBand(bands['b02_10m'],'viridis')\n",
    "        vci(product[1]['title'], bands['b04_10m'], bands['b08_10m'])\n",
    "        # ndwi(product[1]['title'], bands['b03_10m'], bands['b08_10m'])\n",
    "        # nmdi(product[1]['title'], bands['b08_10m'], bands['b11_20m'], bands['b12_20m'])\n",
    "        \n",
    "# upscale_factor = 1/2\n",
    "# with rasterio.open(bands['b08_10m']) as B08init:\n",
    "#         # resample data to target shape\n",
    "#         B08 = B08init.read(\n",
    "#             out_shape=(\n",
    "#                 B08init.count,\n",
    "#                 int(B08init.height * upscale_factor),\n",
    "#                 int(B08init.width * upscale_factor)\n",
    "#             ),\n",
    "#             resampling=Resampling.bilinear\n",
    "#         ).astype('f4')\n",
    "\n",
    "# B11 = rasterio.open(bands['b11_20m']).read().astype('f4')\n",
    "# B12 = rasterio.open(bands['b12_20m']).read().astype('f4')\n",
    "\n",
    "# print(B08.shape)\n",
    "# print(B11.shape)\n",
    "# print(B12.shape)"
   ]
  },
  {
   "cell_type": "code",
   "execution_count": 40,
   "metadata": {},
   "outputs": [
    {
     "name": "stdout",
     "output_type": "stream",
     "text": [
      "[[[1336 1332 1333 ... 2372 2495 1929]\n",
      "  [1288 1333 1303 ... 2455 2416 1986]\n",
      "  [1371 1354 1336 ... 2424 2475 2304]\n",
      "  ...\n",
      "  [4875 5258 6115 ... 4213 2896 2368]\n",
      "  [5672 5761 6332 ... 4324 2390 2729]\n",
      "  [6206 6263 5945 ... 3879 3234 2604]]]\n"
     ]
    }
   ],
   "source": [
    "print(data)"
   ]
  },
  {
   "cell_type": "code",
   "execution_count": 26,
   "metadata": {},
   "outputs": [
    {
     "name": "stdout",
     "output_type": "stream",
     "text": [
      "Getting bands directories for S2A_MSIL2A_20220317T024551_N0400_R132_T49MCM_20220317T065540.SAFE\n",
      "    Calculating VCI for S2A_MSIL2A_20220317T024551_N0400_R132_T49MCM_20220317T065540\n",
      "Getting bands directories for S2A_MSIL2A_20220317T024551_N0400_R132_T49MCN_20220317T065540.SAFE\n",
      "    Calculating VCI for S2A_MSIL2A_20220317T024551_N0400_R132_T49MCN_20220317T065540\n"
     ]
    }
   ],
   "source": [
    "if not products.empty:\n",
    "    for product in products.iterrows():\n",
    "        bands = bands2A(product)\n",
    "        vci(product[1]['title'], bands['b04_10m'], bands['b08_10m'])"
   ]
  },
  {
   "cell_type": "code",
   "execution_count": 9,
   "metadata": {},
   "outputs": [
    {
     "name": "stdout",
     "output_type": "stream",
     "text": [
      "C:\\Users\\Asus\\OneDrive - Stowarzyszenie IAESTE Polska\\Studia\\GINinzynierka\\GINinz\n"
     ]
    }
   ],
   "source": [
    "print(os.getcwd())\n",
    "#print(rasters)"
   ]
  },
  {
   "cell_type": "code",
   "execution_count": 22,
   "metadata": {},
   "outputs": [],
   "source": [
    "# from arcgis.gis import GIS\n",
    "# from arcgis.raster.analytics import copy_raster\n",
    "import arcpy\n",
    "# print(os.environ['PATH'])"
   ]
  },
  {
   "cell_type": "code",
   "execution_count": null,
   "metadata": {},
   "outputs": [],
   "source": [
    "# Sign in to portal\n",
    "arcpy.SignInToPortal(\"https://www.arcgis.com\", \"zuluzi\", \"Jem987dzem!\")\n",
    "\n",
    "# Set output file names\n",
    "outdir = r\"C:\\Project\\Output\"\n",
    "service_name = \"TileSharingDraftExample\"\n",
    "sddraft_filename = service_name + \".sddraft\"\n",
    "sddraft_output_filename = os.path.join(outdir, sddraft_filename)\n",
    "sd_filename = service_name + \".sd\"\n",
    "sd_output_filename = os.path.join(outdir, sd_filename)\n",
    "\n",
    "# Reference map to publish\n",
    "aprx = arcpy.mp.ArcGISProject(r\"C:\\Project\\World.aprx\")\n",
    "m = aprx.listMaps('World')[0]\n",
    "\n",
    "# Create TileSharingDraft and set metadata and portal folder properties\n",
    "server_type = \"HOSTING_SERVER\"\n",
    "sddraft = m.getWebLayerSharingDraft(server_type, \"TILE\", service_name)\n",
    "sddraft.credits = \"These are credits\"\n",
    "sddraft.description = \"This is description\"\n",
    "sddraft.summary = \"This is summary\"\n",
    "sddraft.tags = \"tag1, tag2\"\n",
    "sddraft.useLimitations = \"These are use limitations\"\n",
    "sddraft.portalFolder = \"my folder name\"\n",
    "\n",
    "# Create Service Definition Draft file\n",
    "sddraft.exportToSDDraft(sddraft_output_filename)\n",
    "\n",
    "# Stage Service\n",
    "print(\"Start Staging\")\n",
    "arcpy.StageService_server(sddraft_output_filename, sd_output_filename)\n",
    "\n",
    "# Share to portal\n",
    "print(\"Start Uploading\")\n",
    "arcpy.UploadServiceDefinition_server(sd_output_filename, server_type)\n",
    "\n",
    "print(\"Finish Publishing\")\n"
   ]
  },
  {
   "cell_type": "code",
   "execution_count": 6,
   "metadata": {},
   "outputs": [],
   "source": [
    "# sprawdzenie algorytmu działającego pod merge\n",
    "rasterss = []\n",
    "rasterss.append(rasterio.open(REPROJdir + '\\\\cya_S2A_MSIL2A_20211024T095101_N0301_R079_T34UCA_20211024T122307_reprojected.tif'))\n",
    "rasterss.append(rasterio.open(REPROJdir + '\\\\CDOM_S2A_MSIL2A_20211024T095101_N0301_R079_T33UYR_20211024T122307_reprojected.tif'))\n",
    "\n",
    "src = rasterss[0]\n",
    "mosaic, out_trans = merge(rasterss)\n",
    "kwargs = src.meta.copy()\n",
    "kwargs.update(\n",
    "    driver='GTiff',\n",
    "    height= mosaic.shape[1],\n",
    "    width=mosaic.shape[2],\n",
    "    transform=out_trans,\n",
    "    dtype=rasterio.float32,\n",
    "    count=1,\n",
    "    compress='lzw')\n",
    "with rasterio.open(SHAREdir+'\\\\test_merged.tif', 'w', **kwargs) as dest:\n",
    "    dest.write(mosaic)"
   ]
  },
  {
   "cell_type": "code",
   "execution_count": null,
   "metadata": {},
   "outputs": [],
   "source": [
    "gis = GIS(username=\"zuluzi\", password=\"Jem987dzem!\")"
   ]
  },
  {
   "cell_type": "code",
   "execution_count": null,
   "metadata": {},
   "outputs": [],
   "source": [
    "my_content = gis.content.search(query=\"\")\n",
    "\n",
    "my_content"
   ]
  },
  {
   "cell_type": "code",
   "execution_count": null,
   "metadata": {},
   "outputs": [],
   "source": [
    "input_raster_path = r\"C:\\Users\\Asus\\Documents\\CDOM_S2A_MSIL2A_20211024T095101_N0301_R079_T33UYR_20211024T122307.tif\"\n",
    "single_image_layer = copy_raster(input_raster=input_raster_path,\n",
    "                                 output_name=\"output_imagery_layer\",\n",
    "                                 gis=gis)"
   ]
  },
  {
   "cell_type": "code",
   "execution_count": null,
   "metadata": {},
   "outputs": [],
   "source": [
    "results = os.listdir(RESULTSdir)\n",
    "print(RESULTSdir + '\\\\' + results[0])"
   ]
  },
  {
   "cell_type": "code",
   "execution_count": null,
   "metadata": {},
   "outputs": [],
   "source": [
    "os.environ['PATH'] = r';C:\\Program Files\\PostgreSQL\\14\\bin'\n",
    "os.environ['PGHOST'] = 'localhost'\n",
    "os.environ['PGPORT'] = '5432'\n",
    "os.environ['PGUSER'] = 'postgres'\n",
    "os.environ['PGPASSWORD'] = 'postgres'\n",
    "os.environ['PGDATABASE'] = 'WQ'\n",
    "\n",
    "results = os.listdir(RESULTSdir)\n",
    "\n",
    "conn = psycopg2.connect(database=\"WQ\", user=\"postgres\", host=\"localhost\", password=\"postgres\")\n",
    "cursor = conn.cursor()\n",
    "cmds = 'raster2pgsql -t 100x100 \"' + RESULTSdir + '\\\\' + results[0] + '\" cdomrast.cdom1 |psql'\n",
    "\n",
    "sql = \"INSERT INTO rasters.cdom VALUES (st_raster(\" + RESULTSdir + '\\\\' + results[0] + \",'compression=LZW'));\"\n",
    "\n",
    "subprocess.call(sql, shell=True)\n",
    "\n",
    "conn.close()"
   ]
  },
  {
   "cell_type": "code",
   "execution_count": null,
   "metadata": {},
   "outputs": [],
   "source": [
    "conn.close()"
   ]
  },
  {
   "cell_type": "code",
   "execution_count": null,
   "metadata": {
    "collapsed": false,
    "jupyter": {
     "outputs_hidden": false
    },
    "pycharm": {
     "name": "#%%\n"
    }
   },
   "outputs": [],
   "source": [
    "if not products.empty:\n",
    "    for product in products.iterrows():\n",
    "        bands = bands2A(product)\n",
    "for band in bands.keys():\n",
    "    print(f'{band}: {bands[band]}')\n",
    "for product in products.iterrows():\n",
    "    for v1 in product[1].keys():\n",
    "        print(f'{v1}: {product[1][v1]}')"
   ]
  },
  {
   "cell_type": "code",
   "execution_count": null,
   "metadata": {
    "collapsed": false,
    "jupyter": {
     "outputs_hidden": false
    },
    "pycharm": {
     "name": "#%%\n"
    }
   },
   "outputs": [],
   "source": [
    "try1 = geojson_to_wkt(read_geojson('malopolska.geojson'))"
   ]
  },
  {
   "cell_type": "code",
   "execution_count": null,
   "metadata": {
    "collapsed": false,
    "jupyter": {
     "outputs_hidden": false
    },
    "pycharm": {
     "name": "#%%\n"
    }
   },
   "outputs": [],
   "source": [
    "    srcB03 = rasterio.open(bands['b02_10m'])\n",
    "    kwargs = srcB03.meta\n",
    "    print(type(kwargs))\n",
    "    print(kwargs['crs'])"
   ]
  },
  {
   "cell_type": "code",
   "execution_count": null,
   "metadata": {
    "collapsed": false,
    "jupyter": {
     "outputs_hidden": false
    },
    "pycharm": {
     "name": "#%%\n"
    }
   },
   "outputs": [],
   "source": [
    "#B04 = rasterio.open(bands['b04_10m']).read(1).astype('f4')\n",
    "#print(B04.shape[1])\n",
    "#i = 0\n",
    "#if B04[B04 <= 0] <= 0:\n",
    "#    i = i+1\n",
    "#print(i)\n"
   ]
  },
  {
   "cell_type": "code",
   "execution_count": null,
   "metadata": {
    "collapsed": false,
    "jupyter": {
     "outputs_hidden": false
    },
    "pycharm": {
     "name": "#%% processing\n"
    }
   },
   "outputs": [],
   "source": [
    "for product in products.iterrows():\n",
    "    prodBands = bands2A(product)\n",
    "    CDOM(product[1]['title'], prodBands['B03'],prodBands['B04'])"
   ]
  },
  {
   "cell_type": "code",
   "execution_count": null,
   "metadata": {
    "collapsed": false,
    "jupyter": {
     "outputs_hidden": false
    },
    "pycharm": {
     "name": "#%%\n"
    }
   },
   "outputs": [],
   "source": [
    "src = rasterio.open(RESULTSdir+r\"\\test123.tif\")\n",
    "kwargs = src.meta\n",
    "print(kwargs)\n",
    "srcB03 = rasterio.open(prodBands['B03'])\n",
    "kwargs = srcB03.meta\n",
    "print(kwargs)"
   ]
  },
  {
   "cell_type": "code",
   "execution_count": null,
   "metadata": {
    "collapsed": false,
    "jupyter": {
     "outputs_hidden": false
    },
    "pycharm": {
     "name": "#%% processing\n"
    }
   },
   "outputs": [],
   "source": [
    "os.chdir(DATAdir) # get into data folder\n",
    "for product in products_df.iterrows():\n",
    "    try:\n",
    "        prodBands = bandsDir(product)\n",
    "        rgb = RGB(prodBands['REDdir'],prodBands['BLUEdir'],prodBands['GREENdir'])\n",
    "        plt.imshow(rgb, cmap='RdYlGn')\n",
    "        plt.colorbar()\n",
    "        plt.title('RGB')\n",
    "        plt.xlabel('Column #')\n",
    "        plt.ylabel('Row #')\n",
    "        os.chdir(DATAdir) # back to data folder\n",
    "    except NameError:\n",
    "        print('Error occurred while processing {0}'.format(product[1]['filename']))\n",
    "os.chdir(HOMEdir) # back to main directory"
   ]
  },
  {
   "cell_type": "code",
   "execution_count": null,
   "metadata": {
    "collapsed": false,
    "jupyter": {
     "outputs_hidden": false
    },
    "pycharm": {
     "name": "#%% Plot a low-resolution overview\n"
    }
   },
   "outputs": [],
   "source": [
    "# The grid of raster values can be accessed as a numpy array and plotted:\n",
    "with rasterio.open(prodBands['REDdir']) as src:\n",
    "    print(type(src.read()[0][0][0]))\n",
    "    print(src.read()[0][0][0])\n",
    "    oviews = src.overviews(1) # list of overviews from biggest to smallest\n",
    "    print(oviews)\n",
    "    oview = oviews[-1] # let's look at the smallest thumbnail\n",
    "    print(oview)\n",
    "    print('Decimation factor= {}'.format(oview))\n",
    "    # NOTE this is using a 'decimated read' (http://rasterio.readthedocs.io/en/latest/topics/resampling.html)\n",
    "    thumbnail = src.read(1, out_shape=(1, int(src.height // oview), int(src.width // oview)))\n",
    "\n",
    "print('array type: ',type(thumbnail))\n",
    "print(thumbnail)\n",
    "\n",
    "plt.imshow(thumbnail)\n",
    "plt.colorbar()\n",
    "plt.title('Overview - Band 4 {}'.format(thumbnail.shape))\n",
    "plt.xlabel('Column #')\n",
    "plt.ylabel('Row #')"
   ]
  },
  {
   "cell_type": "code",
   "execution_count": null,
   "metadata": {
    "collapsed": false,
    "jupyter": {
     "outputs_hidden": false
    },
    "pycharm": {
     "name": "#%% HERE IS THE END OF OFFICIAL PART\n"
    }
   },
   "outputs": [],
   "source": [
    "\n",
    "\n"
   ]
  },
  {
   "cell_type": "code",
   "execution_count": null,
   "metadata": {
    "collapsed": false,
    "jupyter": {
     "outputs_hidden": false
    },
    "pycharm": {
     "name": "#%% useless for now but shows sorting options\n"
    }
   },
   "outputs": [],
   "source": [
    "products_df_sorted = products_df.sort_values(['cloudcoverpercentage', 'ingestiondate'], ascending=[True, True])\n",
    "products_df_sorted = products_df_sorted.head(1)\n",
    "#print(products_df_sorted.uuid[0])\n",
    "api.get_product_odata(products_df_sorted.uuid[0], full=True)\n",
    "#api.download(products_df_sorted.uuid[0])"
   ]
  },
  {
   "cell_type": "code",
   "execution_count": null,
   "metadata": {
    "collapsed": false,
    "jupyter": {
     "outputs_hidden": false
    },
    "pycharm": {
     "name": "#%% unzipping all the .zip files\n"
    }
   },
   "outputs": [],
   "source": [
    "odata = api.get_product_odata(products_df_sorted.uuid[0], full=True)\n",
    "with zipfile.ZipFile(odata['title']+'.zip',\"r\") as zip_ref:\n",
    "    zip_ref.extractall()"
   ]
  },
  {
   "cell_type": "code",
   "execution_count": null,
   "metadata": {
    "collapsed": false,
    "jupyter": {
     "outputs_hidden": false
    },
    "pycharm": {
     "name": "#%%\n"
    }
   },
   "outputs": [],
   "source": [
    "#odata = api.get_product_odata(products_df_sorted.uuid[0], full=True)\n",
    "#print(odata)\n",
    "odata = api.get_product_odata(products_df_sorted.uuid[0], full=True)\n",
    "print(odata['title'])\n",
    "for row in products_df_sorted.head(1):\n",
    "    print(row)\n",
    "\n",
    "print(products_df_sorted.head(1).title)\n",
    "#print(products_df_sorted.head(1))"
   ]
  },
  {
   "cell_type": "code",
   "execution_count": null,
   "metadata": {
    "collapsed": false,
    "jupyter": {
     "outputs_hidden": false
    },
    "pycharm": {
     "name": "#%%\n"
    }
   },
   "outputs": [],
   "source": [
    "for product in products_df.iterrows():\n",
    "        prodBands = bandsDir(product)\n",
    "        print(prodBands)"
   ]
  }
 ],
 "metadata": {
  "kernelspec": {
   "display_name": "Python 3",
   "language": "python",
   "name": "python3"
  },
  "language_info": {
   "codemirror_mode": {
    "name": "ipython",
    "version": 3
   },
   "file_extension": ".py",
   "mimetype": "text/x-python",
   "name": "python",
   "nbconvert_exporter": "python",
   "pygments_lexer": "ipython3",
   "version": "3.7.11"
  }
 },
 "nbformat": 4,
 "nbformat_minor": 4
}
